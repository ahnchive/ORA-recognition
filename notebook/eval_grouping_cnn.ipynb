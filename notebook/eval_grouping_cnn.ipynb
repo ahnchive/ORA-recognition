{
 "cells": [
  {
   "cell_type": "code",
   "execution_count": 8,
   "id": "3e1ca64d",
   "metadata": {},
   "outputs": [
    {
     "name": "stdout",
     "output_type": "stream",
     "text": [
      "current directory: /home/young/workspace/reconstruction/recon-mnistc\n"
     ]
    }
   ],
   "source": [
    "# set current directory (where this repo is located)\n",
    "import os\n",
    "PROJECT_ROOT = '/home/young/workspace/reconstruction/recon-mnistc'\n",
    "os.chdir(PROJECT_ROOT)\n",
    "print('current directory:', os.getcwd())"
   ]
  },
  {
   "cell_type": "code",
   "execution_count": 20,
   "id": "c7641d97",
   "metadata": {},
   "outputs": [],
   "source": [
    "import torch\n",
    "from train_cnn import *\n",
    "\n",
    "from loaddata import *\n",
    "import pandas as pd\n",
    "from evaluation import topkacc\n",
    "\n",
    "\n",
    "\n",
    "DATA_DIR = './data'\n",
    "DEVICE = torch.device('cuda:0' if torch.cuda.is_available() else 'cpu')\n",
    "BATCHSIZE = 100\n",
    "\n",
    "    \n",
    "@torch.no_grad()\n",
    "def evaluate_cnn(model, task, num_targets):\n",
    "    model.eval() \n",
    "\n",
    "    # load dataloader and iterator\n",
    "    dataloader = fetch_dataloader(task, DATA_DIR, DEVICE, BATCHSIZE, train=False)    \n",
    "    diter = iter(dataloader)\n",
    "    \n",
    "    # run and save output\n",
    "    x_all, y_all, pred_all, obj_accs_all, img_accs_all= [],[],[],[],[]\n",
    "    for x, y in diter:\n",
    "\n",
    "        data, target = x.to(DEVICE),  y.to(DEVICE)\n",
    "        output = model(data)\n",
    "        output = torch.sigmoid(output)     #<--- since you use BCEWithLogitsLoss\n",
    "    \n",
    "        obj_accs = topkacc(output, target, topk=num_targets)\n",
    "        img_accs = obj_accs == 1\n",
    "\n",
    "        # import pdb; pdb.set_trace()\n",
    "        x_all.append(data)\n",
    "        y_all.append(target)\n",
    "        pred_all.append(output)\n",
    "        obj_accs_all.append(obj_accs)\n",
    "        img_accs_all.append(img_accs)   \n",
    "\n",
    "\n",
    "    # concat and add to outputs dictionary\n",
    "    x_all = torch.cat(x_all, dim=0)\n",
    "    y_all = torch.cat(y_all, dim=0)\n",
    "    pred_all = torch.cat(pred_all, dim=0)\n",
    "    obj_accs_all = torch.cat(obj_accs_all, dim=0)\n",
    "    img_accs_all = torch.cat(img_accs_all, dim=0)\n",
    "    \n",
    "\n",
    "    return x_all, y_all, pred_all, obj_accs_all, img_accs_all\n"
   ]
  },
  {
   "cell_type": "markdown",
   "id": "da051184",
   "metadata": {},
   "source": [
    "# Model evaluation on MNIST-C\n"
   ]
  },
  {
   "cell_type": "code",
   "execution_count": 21,
   "id": "c78727f4-e10c-4f52-9266-de8911586dcc",
   "metadata": {},
   "outputs": [
    {
     "name": "stdout",
     "output_type": "stream",
     "text": [
      "start analysis on ./results/mnist/Feb22_1645_resnet_mnist_multi_high/best_epoch32_0.9584.pt\n",
      "mnist_highoverlap_4pix_nodup_1fold_36width_2obj_train.pt mnist_highoverlap_4pix_nodup_1fold_36width_2obj_test.pt\n"
     ]
    },
    {
     "ename": "RuntimeError",
     "evalue": "\"topk_out_cuda\" not implemented for 'Bool'",
     "output_type": "error",
     "traceback": [
      "\u001b[0;31m---------------------------------------------------------------------------\u001b[0m",
      "\u001b[0;31mRuntimeError\u001b[0m                              Traceback (most recent call last)",
      "Cell \u001b[0;32mIn[21], line 31\u001b[0m\n\u001b[1;32m     28\u001b[0m \u001b[38;5;66;03m# load the trained weights\u001b[39;00m\n\u001b[1;32m     29\u001b[0m cnn\u001b[38;5;241m.\u001b[39mload_state_dict(torch\u001b[38;5;241m.\u001b[39mload(load_model_path))\n\u001b[0;32m---> 31\u001b[0m x_all, y_all, pred_all, obj_accs_all, img_accs_all \u001b[38;5;241m=\u001b[39m \u001b[43mevaluate_cnn\u001b[49m\u001b[43m(\u001b[49m\u001b[43mcnn\u001b[49m\u001b[43m,\u001b[49m\u001b[43m \u001b[49m\u001b[43mtask\u001b[49m\u001b[43m,\u001b[49m\u001b[43m \u001b[49m\u001b[43mnum_targets\u001b[49m\u001b[43m)\u001b[49m\n\u001b[1;32m     33\u001b[0m obj_acc \u001b[38;5;241m=\u001b[39m obj_accs_all\u001b[38;5;241m.\u001b[39mmean()\u001b[38;5;241m.\u001b[39mitem()\n\u001b[1;32m     34\u001b[0m img_acc \u001b[38;5;241m=\u001b[39m img_accs_all\u001b[38;5;241m.\u001b[39mmean()\u001b[38;5;241m.\u001b[39mitem()\n",
      "File \u001b[0;32m~/anaconda3/envs/ora-recog/lib/python3.8/site-packages/torch/autograd/grad_mode.py:28\u001b[0m, in \u001b[0;36m_DecoratorContextManager.__call__.<locals>.decorate_context\u001b[0;34m(*args, **kwargs)\u001b[0m\n\u001b[1;32m     25\u001b[0m \u001b[38;5;129m@functools\u001b[39m\u001b[38;5;241m.\u001b[39mwraps(func)\n\u001b[1;32m     26\u001b[0m \u001b[38;5;28;01mdef\u001b[39;00m \u001b[38;5;21mdecorate_context\u001b[39m(\u001b[38;5;241m*\u001b[39margs, \u001b[38;5;241m*\u001b[39m\u001b[38;5;241m*\u001b[39mkwargs):\n\u001b[1;32m     27\u001b[0m     \u001b[38;5;28;01mwith\u001b[39;00m \u001b[38;5;28mself\u001b[39m\u001b[38;5;241m.\u001b[39m\u001b[38;5;18m__class__\u001b[39m():\n\u001b[0;32m---> 28\u001b[0m         \u001b[38;5;28;01mreturn\u001b[39;00m \u001b[43mfunc\u001b[49m\u001b[43m(\u001b[49m\u001b[38;5;241;43m*\u001b[39;49m\u001b[43margs\u001b[49m\u001b[43m,\u001b[49m\u001b[43m \u001b[49m\u001b[38;5;241;43m*\u001b[39;49m\u001b[38;5;241;43m*\u001b[39;49m\u001b[43mkwargs\u001b[49m\u001b[43m)\u001b[49m\n",
      "Cell \u001b[0;32mIn[20], line 32\u001b[0m, in \u001b[0;36mevaluate_cnn\u001b[0;34m(model, task, num_targets)\u001b[0m\n\u001b[1;32m     29\u001b[0m output \u001b[38;5;241m=\u001b[39m torch\u001b[38;5;241m.\u001b[39msigmoid(output)     \u001b[38;5;66;03m#<--- since you use BCEWithLogitsLoss\u001b[39;00m\n\u001b[1;32m     31\u001b[0m obj_accs \u001b[38;5;241m=\u001b[39m topkacc(output, target, topk\u001b[38;5;241m=\u001b[39mnum_targets)\n\u001b[0;32m---> 32\u001b[0m img_accs \u001b[38;5;241m=\u001b[39m \u001b[43mtopkacc\u001b[49m\u001b[43m(\u001b[49m\u001b[43moutput\u001b[49m\u001b[38;5;241;43m==\u001b[39;49m\u001b[38;5;241;43m1\u001b[39;49m\u001b[43m,\u001b[49m\u001b[43m \u001b[49m\u001b[43mtarget\u001b[49m\u001b[43m,\u001b[49m\u001b[43m \u001b[49m\u001b[43mtopk\u001b[49m\u001b[38;5;241;43m=\u001b[39;49m\u001b[43mnum_targets\u001b[49m\u001b[43m)\u001b[49m\n\u001b[1;32m     34\u001b[0m \u001b[38;5;66;03m# import pdb; pdb.set_trace()\u001b[39;00m\n\u001b[1;32m     35\u001b[0m x_all\u001b[38;5;241m.\u001b[39mappend(data)\n",
      "File \u001b[0;32m~/workspace/reconstruction/recon-mnistc/evaluation.py:19\u001b[0m, in \u001b[0;36mtopkacc\u001b[0;34m(y_pred, y_true, topk)\u001b[0m\n\u001b[1;32m      8\u001b[0m \u001b[38;5;250m\u001b[39m\u001b[38;5;124;03m\"\"\"\u001b[39;00m\n\u001b[1;32m      9\u001b[0m \u001b[38;5;124;03mhow many of topk predictions are accurate --> 1 (all topk are in labels), 0.5 (half topk are in lables), 0 (none)\u001b[39;00m\n\u001b[1;32m     10\u001b[0m \u001b[38;5;124;03me.g., one of top2 is in gt label = 0.5    \u001b[39;00m\n\u001b[0;32m   (...)\u001b[0m\n\u001b[1;32m     16\u001b[0m \u001b[38;5;124;03m    - a vector of accuracy from each image --> [n_images,]\u001b[39;00m\n\u001b[1;32m     17\u001b[0m \u001b[38;5;124;03m\"\"\"\u001b[39;00m\n\u001b[1;32m     18\u001b[0m \u001b[38;5;28;01mwith\u001b[39;00m torch\u001b[38;5;241m.\u001b[39mno_grad():\n\u001b[0;32m---> 19\u001b[0m     topk_indices \u001b[38;5;241m=\u001b[39m \u001b[43my_pred\u001b[49m\u001b[38;5;241;43m.\u001b[39;49m\u001b[43mtopk\u001b[49m\u001b[43m(\u001b[49m\u001b[43mtopk\u001b[49m\u001b[43m,\u001b[49m\u001b[43m \u001b[49m\u001b[38;5;28;43msorted\u001b[39;49m\u001b[38;5;241;43m=\u001b[39;49m\u001b[38;5;28;43;01mTrue\u001b[39;49;00m\u001b[43m)\u001b[49m[\u001b[38;5;241m1\u001b[39m] \n\u001b[1;32m     20\u001b[0m     accs \u001b[38;5;241m=\u001b[39m torch\u001b[38;5;241m.\u001b[39mgather(y_true, dim\u001b[38;5;241m=\u001b[39m\u001b[38;5;241m1\u001b[39m, index\u001b[38;5;241m=\u001b[39mtopk_indices)\u001b[38;5;241m.\u001b[39msum(dim\u001b[38;5;241m=\u001b[39m\u001b[38;5;241m1\u001b[39m)\n\u001b[1;32m     21\u001b[0m     accs \u001b[38;5;241m=\u001b[39m (accs\u001b[38;5;241m/\u001b[39mtopk)\n",
      "\u001b[0;31mRuntimeError\u001b[0m: \"topk_out_cuda\" not implemented for 'Bool'"
     ]
    }
   ],
   "source": [
    "task ='mnist_multi_high'\n",
    "cnn_type = 'resnet' #'2conv' or 'resnet' \n",
    "num_classes = 10\n",
    "num_targets = 2\n",
    "\n",
    "if cnn_type == '2conv':\n",
    "    modellist = [\n",
    "    ]\n",
    "elif cnn_type == 'resnet':\n",
    "    modellist = [\n",
    "        './results/mnist/Feb22_1645_resnet_mnist_multi_high/best_epoch32_0.9584.pt',\n",
    "\n",
    "    ]\n",
    "\n",
    "\n",
    "df = pd.DataFrame()\n",
    "for i, load_model_path in enumerate(modellist):\n",
    "\n",
    "    print(f'start analysis on {load_model_path}')\n",
    "    \n",
    "    if cnn_type=='2conv':\n",
    "        cnn = Net().to(DEVICE)\n",
    "    elif cnn_type=='resnet':\n",
    "        cnn = ResNet(in_channels=1, resblock= ResBlock, outputs=10).to(DEVICE)\n",
    "    else:\n",
    "        raise NotImplementedError \n",
    "    \n",
    "    # load the trained weights\n",
    "    cnn.load_state_dict(torch.load(load_model_path))\n",
    "\n",
    "    x_all, y_all, pred_all, obj_accs_all, img_accs_all = evaluate_cnn(cnn, task, num_targets)\n",
    "\n",
    "    obj_acc = obj_accs_all.mean().item()\n",
    "    img_acc = img_accs_all.mean().item()\n",
    "\n",
    "    df[load_model_path]= [obj_acc, img_acc]\n",
    "\n",
    "df.index = ['obj_acc', 'img_acc']\n",
    "# df.index = np.arange(1, len(df)+1)\n",
    "# df.loc['AVERAGE'] = df.mean()\n",
    "\n",
    "df"
   ]
  },
  {
   "cell_type": "code",
   "execution_count": 3,
   "id": "471c8f87-29d0-4852-ba83-5efb968d6235",
   "metadata": {},
   "outputs": [
    {
     "name": "stdout",
     "output_type": "stream",
     "text": [
      "test done! df is saved to csv as model-results-cnn-clean-resnet4.csv\n"
     ]
    }
   ],
   "source": [
    "# save to csv\n",
    "path_df = 'model-results-cnn-clean-resnet4.csv'\n",
    "if os.path.isfile(path_df):\n",
    "    print(f'test done! file {path_df} already exists, df is not saved')\n",
    "else: \n",
    "    df.to_csv(path_df, index=False)\n",
    "    print(f'test done! df is saved to csv as {path_df}')"
   ]
  },
  {
   "cell_type": "markdown",
   "id": "bf360fdc-527a-4d23-87fd-dcb83a88b6c7",
   "metadata": {},
   "source": [
    "# model evaluation on shape-dataset"
   ]
  },
  {
   "cell_type": "code",
   "execution_count": 2,
   "id": "577a14a1-2866-4ad8-97c0-67494e511ba6",
   "metadata": {},
   "outputs": [
    {
     "name": "stdout",
     "output_type": "stream",
     "text": [
      "start analysis on ./results/mnist/Apr29_1330_cnn_clean_run1/best_epoch15_0.9963.pt\n",
      "original mnist dataset\n",
      "start analysis on ./results/mnist/Apr29_1336_cnn_clean_run2/best_epoch14_0.9969.pt\n",
      "original mnist dataset\n",
      "start analysis on ./results/mnist/Apr29_1342_cnn_clean_run3/best_epoch16_0.9968.pt\n",
      "original mnist dataset\n",
      "start analysis on ./results/mnist/Apr29_1348_cnn_clean_run4/best_epoch14_0.9960.pt\n",
      "original mnist dataset\n",
      "start analysis on ./results/mnist/Apr29_1355_cnn_clean_run5/best_epoch13_0.9969.pt\n",
      "original mnist dataset\n"
     ]
    },
    {
     "data": {
      "text/html": [
       "<div>\n",
       "<style scoped>\n",
       "    .dataframe tbody tr th:only-of-type {\n",
       "        vertical-align: middle;\n",
       "    }\n",
       "\n",
       "    .dataframe tbody tr th {\n",
       "        vertical-align: top;\n",
       "    }\n",
       "\n",
       "    .dataframe thead th {\n",
       "        text-align: right;\n",
       "    }\n",
       "</style>\n",
       "<table border=\"1\" class=\"dataframe\">\n",
       "  <thead>\n",
       "    <tr style=\"text-align: right;\">\n",
       "      <th></th>\n",
       "      <th>task</th>\n",
       "      <th>./results/mnist/Apr29_1330_cnn_clean_run1/best_epoch15_0.9963.pt</th>\n",
       "      <th>./results/mnist/Apr29_1336_cnn_clean_run2/best_epoch14_0.9969.pt</th>\n",
       "      <th>./results/mnist/Apr29_1342_cnn_clean_run3/best_epoch16_0.9968.pt</th>\n",
       "      <th>./results/mnist/Apr29_1348_cnn_clean_run4/best_epoch14_0.9960.pt</th>\n",
       "      <th>./results/mnist/Apr29_1355_cnn_clean_run5/best_epoch13_0.9969.pt</th>\n",
       "    </tr>\n",
       "  </thead>\n",
       "  <tbody>\n",
       "    <tr>\n",
       "      <th>0</th>\n",
       "      <td>mnist</td>\n",
       "      <td>99.059999</td>\n",
       "      <td>99.079996</td>\n",
       "      <td>99.149996</td>\n",
       "      <td>99.159998</td>\n",
       "      <td>99.100000</td>\n",
       "    </tr>\n",
       "    <tr>\n",
       "      <th>1</th>\n",
       "      <td>mnist_occlusion</td>\n",
       "      <td>88.849998</td>\n",
       "      <td>88.559997</td>\n",
       "      <td>88.629997</td>\n",
       "      <td>88.909996</td>\n",
       "      <td>87.909997</td>\n",
       "    </tr>\n",
       "    <tr>\n",
       "      <th>2</th>\n",
       "      <td>mnist_flipped</td>\n",
       "      <td>59.670001</td>\n",
       "      <td>62.580001</td>\n",
       "      <td>61.559999</td>\n",
       "      <td>62.470001</td>\n",
       "      <td>60.939997</td>\n",
       "    </tr>\n",
       "    <tr>\n",
       "      <th>3</th>\n",
       "      <td>mnist_random</td>\n",
       "      <td>34.529999</td>\n",
       "      <td>34.419999</td>\n",
       "      <td>34.410000</td>\n",
       "      <td>34.509999</td>\n",
       "      <td>33.949998</td>\n",
       "    </tr>\n",
       "  </tbody>\n",
       "</table>\n",
       "</div>"
      ],
      "text/plain": [
       "              task  \\\n",
       "0            mnist   \n",
       "1  mnist_occlusion   \n",
       "2    mnist_flipped   \n",
       "3     mnist_random   \n",
       "\n",
       "   ./results/mnist/Apr29_1330_cnn_clean_run1/best_epoch15_0.9963.pt  \\\n",
       "0                                          99.059999                  \n",
       "1                                          88.849998                  \n",
       "2                                          59.670001                  \n",
       "3                                          34.529999                  \n",
       "\n",
       "   ./results/mnist/Apr29_1336_cnn_clean_run2/best_epoch14_0.9969.pt  \\\n",
       "0                                          99.079996                  \n",
       "1                                          88.559997                  \n",
       "2                                          62.580001                  \n",
       "3                                          34.419999                  \n",
       "\n",
       "   ./results/mnist/Apr29_1342_cnn_clean_run3/best_epoch16_0.9968.pt  \\\n",
       "0                                          99.149996                  \n",
       "1                                          88.629997                  \n",
       "2                                          61.559999                  \n",
       "3                                          34.410000                  \n",
       "\n",
       "   ./results/mnist/Apr29_1348_cnn_clean_run4/best_epoch14_0.9960.pt  \\\n",
       "0                                          99.159998                  \n",
       "1                                          88.909996                  \n",
       "2                                          62.470001                  \n",
       "3                                          34.509999                  \n",
       "\n",
       "   ./results/mnist/Apr29_1355_cnn_clean_run5/best_epoch13_0.9969.pt  \n",
       "0                                          99.100000                 \n",
       "1                                          87.909997                 \n",
       "2                                          60.939997                 \n",
       "3                                          33.949998                 "
      ]
     },
     "execution_count": 2,
     "metadata": {},
     "output_type": "execute_result"
    }
   ],
   "source": [
    "tasklist = ['mnist', 'mnist_occlusion', 'mnist_flipped', 'mnist_random']\n",
    "\n",
    "modellist = [\n",
    "\n",
    "]\n",
    "\n",
    "df = pd.DataFrame()\n",
    "df['task'] = tasklist\n",
    "\n",
    "for i, load_model_path in enumerate(modellist):\n",
    "    print(f'start analysis on {load_model_path}')\n",
    "    cnn = Net().to(DEVICE)\n",
    "    cnn.load_state_dict(torch.load(load_model_path))\n",
    "    cnn.eval()\n",
    "    accs = []\n",
    "    for task in tasklist:\n",
    "        data_cnn, target_cnn, logsoft_cnn, pred_cnn, acc_cnn = evaluate_cnn(task)\n",
    "        accs.append(100*acc_cnn.float().mean().item())\n",
    "\n",
    "    df[load_model_path]=accs\n",
    "\n",
    "df"
   ]
  },
  {
   "cell_type": "markdown",
   "id": "f604db69",
   "metadata": {},
   "source": [
    "# Model evaluation on each batch"
   ]
  },
  {
   "cell_type": "code",
   "execution_count": 40,
   "id": "868a6b77",
   "metadata": {},
   "outputs": [
    {
     "name": "stdout",
     "output_type": "stream",
     "text": [
      "0.91\n"
     ]
    }
   ],
   "source": [
    "task ='mnist_c_mini'\n",
    "test_dataloader = fetch_dataloader(task, DATA_DIR, DEVICE, BATCHSIZE, train=False)\n",
    "\n",
    "load_model_path = './results/mnist/cnn3/epoch50.pt'\n",
    "\n",
    "model = Net().to(DEVICE)\n",
    "model.load_state_dict(torch.load(load_model_path))\n",
    "model.eval()\n",
    "\n",
    "\n",
    "batchnum=3*int(1000/BATCHSIZE)-1\n",
    "\n",
    "accs_mini = []\n",
    "pred_mini =[]\n",
    "target_mini =[]\n",
    "\n",
    "diter = iter(test_dataloader)\n",
    "for i in range(batchnum):\n",
    "    x, y = next(diter)\n",
    "\n",
    "with torch.no_grad():            \n",
    "    data, target = x.to(DEVICE),  y.to(DEVICE)\n",
    "    target = target.argmax(dim=1, keepdim=True)\n",
    "    output = model(data)\n",
    "#                 test_loss += F.nll_loss(output, target, reduction='sum').item()  # sum up batch loss\n",
    "    pred = output.argmax(dim=1, keepdim=True)  # get the index of the max log-probability\n",
    "    correct = pred.eq(target.view_as(pred)).sum().item()\n",
    "    acc = correct /BATCHSIZE\n",
    "accs_mini.append(acc)\n",
    "pred_mini.append(pred)\n",
    "target_mini.append(target)\n",
    "\n",
    "print(np.mean(accs_mini))\n",
    "\n",
    "predictions = torch.cat(pred_mini, dim=0).flatten()\n",
    "targets =  torch.cat(target_mini, dim=0).flatten()\n",
    "\n",
    "## print predictions and acc\n",
    "for i in range(len(predictions)):\n",
    "    if predictions[i] != targets[i]:\n",
    "        sign= \"***\"\n",
    "    else: sign=None\n",
    "    print(f'trial: {i}, prediction: {predictions[i]}, {sign}')"
   ]
  }
 ],
 "metadata": {
  "kernelspec": {
   "display_name": "ora-recog",
   "language": "python",
   "name": "python3"
  },
  "language_info": {
   "codemirror_mode": {
    "name": "ipython",
    "version": 3
   },
   "file_extension": ".py",
   "mimetype": "text/x-python",
   "name": "python",
   "nbconvert_exporter": "python",
   "pygments_lexer": "ipython3",
   "version": "3.8.18"
  }
 },
 "nbformat": 4,
 "nbformat_minor": 5
}
