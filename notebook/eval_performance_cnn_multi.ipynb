{
 "cells": [
  {
   "cell_type": "code",
   "execution_count": 8,
   "id": "3e1ca64d",
   "metadata": {},
   "outputs": [
    {
     "name": "stdout",
     "output_type": "stream",
     "text": [
      "current directory: /home/young/workspace/reconstruction/recon-mnistc\n"
     ]
    }
   ],
   "source": [
    "# set current directory (where this repo is located)\n",
    "import os\n",
    "PROJECT_ROOT = '/home/young/workspace/reconstruction/recon-mnistc'\n",
    "os.chdir(PROJECT_ROOT)\n",
    "print('current directory:', os.getcwd())"
   ]
  },
  {
   "cell_type": "code",
   "execution_count": 24,
   "id": "c7641d97",
   "metadata": {},
   "outputs": [],
   "source": [
    "import torch\n",
    "from train_cnn import *\n",
    "\n",
    "from loaddata import *\n",
    "import pandas as pd\n",
    "from evaluation import topkacc\n",
    "\n",
    "\n",
    "\n",
    "DATA_DIR = './data'\n",
    "DEVICE = torch.device('cuda:0' if torch.cuda.is_available() else 'cpu')\n",
    "BATCHSIZE = 100\n",
    "\n",
    "    \n",
    "@torch.no_grad()\n",
    "def evaluate_cnn(model, task, num_targets):\n",
    "    model.eval() \n",
    "\n",
    "    # load dataloader and iterator\n",
    "    dataloader = fetch_dataloader(task, DATA_DIR, DEVICE, BATCHSIZE, train=False)    \n",
    "    diter = iter(dataloader)\n",
    "    \n",
    "    # run and save output\n",
    "    x_all, y_all, pred_all, obj_accs_all, img_accs_all= [],[],[],[],[]\n",
    "    for x, y in diter:\n",
    "\n",
    "        data, target = x.to(DEVICE),  y.to(DEVICE)\n",
    "        output = model(data)\n",
    "        output = torch.sigmoid(output)     #<--- since you use BCEWithLogitsLoss\n",
    "    \n",
    "        obj_accs = topkacc(output, target, topk=num_targets)\n",
    "        img_accs = (obj_accs == 1).float()\n",
    "\n",
    "        # import pdb; pdb.set_trace()\n",
    "        x_all.append(data)\n",
    "        y_all.append(target)\n",
    "        pred_all.append(output)\n",
    "        obj_accs_all.append(obj_accs)\n",
    "        img_accs_all.append(img_accs)   \n",
    "\n",
    "\n",
    "    # concat and add to outputs dictionary\n",
    "    x_all = torch.cat(x_all, dim=0)\n",
    "    y_all = torch.cat(y_all, dim=0)\n",
    "    pred_all = torch.cat(pred_all, dim=0)\n",
    "    obj_accs_all = torch.cat(obj_accs_all, dim=0)\n",
    "    img_accs_all = torch.cat(img_accs_all, dim=0)\n",
    "    \n",
    "\n",
    "    return x_all, y_all, pred_all, obj_accs_all, img_accs_all\n"
   ]
  },
  {
   "cell_type": "markdown",
   "id": "da051184",
   "metadata": {},
   "source": [
    "# Model evaluation\n"
   ]
  },
  {
   "cell_type": "code",
   "execution_count": 31,
   "id": "c78727f4-e10c-4f52-9266-de8911586dcc",
   "metadata": {},
   "outputs": [
    {
     "name": "stdout",
     "output_type": "stream",
     "text": [
      "start analysis on ./results/mnist/Feb23_0417_resnet_mnist_shift_single_36/best_epoch9_1.0000.pt\n",
      "mnist_overlap_4pix_nodup_1fold_36width_2obj_train.pt mnist_overlap_4pix_nodup_1fold_36width_2obj_test.pt\n"
     ]
    },
    {
     "data": {
      "text/html": [
       "<div>\n",
       "<style scoped>\n",
       "    .dataframe tbody tr th:only-of-type {\n",
       "        vertical-align: middle;\n",
       "    }\n",
       "\n",
       "    .dataframe tbody tr th {\n",
       "        vertical-align: top;\n",
       "    }\n",
       "\n",
       "    .dataframe thead th {\n",
       "        text-align: right;\n",
       "    }\n",
       "</style>\n",
       "<table border=\"1\" class=\"dataframe\">\n",
       "  <thead>\n",
       "    <tr style=\"text-align: right;\">\n",
       "      <th></th>\n",
       "      <th>./results/mnist/Feb23_0417_resnet_mnist_shift_single_36/best_epoch9_1.0000.pt</th>\n",
       "    </tr>\n",
       "  </thead>\n",
       "  <tbody>\n",
       "    <tr>\n",
       "      <th>obj_acc</th>\n",
       "      <td>0.5547</td>\n",
       "    </tr>\n",
       "    <tr>\n",
       "      <th>img_acc</th>\n",
       "      <td>0.2279</td>\n",
       "    </tr>\n",
       "  </tbody>\n",
       "</table>\n",
       "</div>"
      ],
      "text/plain": [
       "         ./results/mnist/Feb23_0417_resnet_mnist_shift_single_36/best_epoch9_1.0000.pt\n",
       "obj_acc                                             0.5547                            \n",
       "img_acc                                             0.2279                            "
      ]
     },
     "execution_count": 31,
     "metadata": {},
     "output_type": "execute_result"
    }
   ],
   "source": [
    "task = 'mnist_multi' #'mnist_multi_high'\n",
    "cnn_type = 'resnet' #'2conv' or 'resnet' \n",
    "num_classes = 10\n",
    "num_targets = 2\n",
    "\n",
    "if cnn_type == '2conv':\n",
    "    modellist = [\n",
    "        './results/mnist/Feb20_2331_cnn_mnist_shift_single_36/best_epoch24_0.9936.pt',\n",
    "    ]\n",
    "elif cnn_type == 'resnet':\n",
    "    modellist = [\n",
    "        './results/mnist/Feb23_0417_resnet_mnist_shift_single_36/best_epoch9_1.0000.pt', #single shift\n",
    "        # './results/mnist/Feb21_0709_resnet_mnist_multi/best_epoch24_0.9788.pt', # multi \n",
    "        # './results/mnist/Feb22_1645_resnet_mnist_multi_high/best_epoch32_0.9584.pt', # multi highoverlap\n",
    "\n",
    "    ]\n",
    "\n",
    "\n",
    "df = pd.DataFrame()\n",
    "for i, load_model_path in enumerate(modellist):\n",
    "\n",
    "    print(f'start analysis on {load_model_path}')\n",
    "    \n",
    "    if cnn_type=='2conv':\n",
    "        cnn = Net(feature_size_after_conv=16384, num_classes= num_classes).to(DEVICE)\n",
    "    elif cnn_type=='resnet':\n",
    "        cnn = ResNet(in_channels=1, resblock= ResBlock, outputs=10).to(DEVICE)\n",
    "    else:\n",
    "        raise NotImplementedError \n",
    "    \n",
    "    # load the trained weights\n",
    "    cnn.load_state_dict(torch.load(load_model_path))\n",
    "\n",
    "    x_all, y_all, pred_all, obj_accs_all, img_accs_all = evaluate_cnn(cnn, task, num_targets)\n",
    "\n",
    "    obj_acc = obj_accs_all.mean().item()\n",
    "    img_acc = img_accs_all.mean().item()\n",
    "\n",
    "    df[load_model_path]= [obj_acc, img_acc]\n",
    "\n",
    "df.index = ['obj_acc', 'img_acc']\n",
    "# df.index = np.arange(1, len(df)+1)\n",
    "# df.loc['AVERAGE'] = df.mean()\n",
    "\n",
    "df"
   ]
  }
 ],
 "metadata": {
  "kernelspec": {
   "display_name": "ora-recog",
   "language": "python",
   "name": "python3"
  },
  "language_info": {
   "codemirror_mode": {
    "name": "ipython",
    "version": 3
   },
   "file_extension": ".py",
   "mimetype": "text/x-python",
   "name": "python",
   "nbconvert_exporter": "python",
   "pygments_lexer": "ipython3",
   "version": "3.8.18"
  }
 },
 "nbformat": 4,
 "nbformat_minor": 5
}
