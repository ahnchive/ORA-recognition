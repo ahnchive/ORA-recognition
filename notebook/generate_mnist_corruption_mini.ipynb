{
 "cells": [
  {
   "cell_type": "markdown",
   "metadata": {},
   "source": [
    "# Generating dataset \n"
   ]
  },
  {
   "cell_type": "code",
   "execution_count": 1,
   "metadata": {},
   "outputs": [],
   "source": [
    "%matplotlib inline \n",
    "import matplotlib.pyplot as plt\n",
    "\n",
    "import torch\n",
    "import torchvision.transforms as T\n",
    "from torchvision import datasets\n",
    "import copy\n",
    "import os\n",
    "from tqdm.notebook import tqdm\n",
    "import numpy as np \n",
    "np.set_printoptions(suppress=True)\n",
    "\n",
    "import random"
   ]
  },
  {
   "cell_type": "markdown",
   "metadata": {},
   "source": [
    "# Create mini-mnist C dataset for mini testing\n",
    "get 1000 samples from each corruption dataset * 15 corruptions = 15000 sample images and labels"
   ]
  },
  {
   "cell_type": "code",
   "execution_count": 2,
   "metadata": {},
   "outputs": [
    {
     "name": "stdout",
     "output_type": "stream",
     "text": [
      "(16000, 28, 28, 1)\n",
      "(16000,)\n"
     ]
    }
   ],
   "source": [
    "random.seed(10)\n",
    "randomlist = random.sample(range(0, 10000), 1000)\n",
    "# randomlist = [i for i in range(1000)]\n",
    "# print(randomlist)\n",
    "CORRUPTION_TYPES = ['identity', \n",
    "         'shot_noise', 'impulse_noise','glass_blur','motion_blur',\n",
    "         'shear', 'scale',  'rotate',  'brightness',  'translate',\n",
    "         'stripe', 'fog','spatter','dotted_line', 'zigzag',\n",
    "         'canny_edges']\n",
    "\n",
    "path_root = '../data/MNIST_C'\n",
    "# clist = os.listdir(path_root)\n",
    "ilist = []\n",
    "llist = []\n",
    "for corruption in CORRUPTION_TYPES:\n",
    "    path_images = os.path.join(path_root, corruption, 'test_images.npy')\n",
    "    path_labels = os.path.join(path_root, corruption, 'test_labels.npy')\n",
    "    images = np.load(path_images)\n",
    "    labels = np.load(path_labels)\n",
    "    \n",
    "    ilist.append(images[randomlist])\n",
    "    llist.append(labels[randomlist])\n",
    "\n",
    "selected_images = np.vstack(ilist)\n",
    "selected_labels = np.hstack(llist)\n",
    "print(selected_images.shape) #(16000, 28, 28, 1)\n",
    "print(selected_labels.shape) #(16000,)"
   ]
  },
  {
   "cell_type": "code",
   "execution_count": 3,
   "metadata": {},
   "outputs": [
    {
     "name": "stdout",
     "output_type": "stream",
     "text": [
      "torch.Size([16000, 1, 28, 28])\n",
      "torch.Size([16000, 10])\n"
     ]
    }
   ],
   "source": [
    "#tranform to tensorized images (int8->float32,0-1) & one-hot vector for labels\n",
    "transform_tohot = T.Lambda(lambda y: torch.zeros(10, dtype=torch.float).scatter_(0, torch.tensor(y), value=1))\n",
    "selected_images_tensorized = torch.stack([T.ToTensor()(im) for im in selected_images])\n",
    "selected_labels_tensorized = torch.stack([transform_tohot(label) for label in selected_labels])\n",
    "print(selected_images_tensorized.shape) #torch.Size([16000, 1, 28, 28])\n",
    "print(selected_labels_tensorized.shape) #torch.Size([16000, 10])"
   ]
  },
  {
   "cell_type": "code",
   "execution_count": 4,
   "metadata": {},
   "outputs": [
    {
     "name": "stdout",
     "output_type": "stream",
     "text": [
      "dataset saved to disk\n"
     ]
    }
   ],
   "source": [
    "# save tensorized dataset\n",
    "path_save = os.path.join(path_root, 'mnistc_mini.pt')\n",
    "torch.save((selected_images_tensorized, selected_labels_tensorized), path_save)\n",
    "print('dataset saved to disk')"
   ]
  },
  {
   "cell_type": "code",
   "execution_count": 31,
   "metadata": {},
   "outputs": [
    {
     "name": "stdout",
     "output_type": "stream",
     "text": [
      "shuffled images and labels are saved\n"
     ]
    }
   ],
   "source": [
    "##################################\n",
    "# shuffle the order original mnistc (for visualization)\n",
    "############################\n",
    "# # print(randomlist)\n",
    "# CORRUPTION_TYPES = ['identity', \n",
    "#          'shot_noise', 'impulse_noise','glass_blur','motion_blur',\n",
    "#          'shear', 'scale',  'rotate',  'brightness',  'translate',\n",
    "#          'stripe', 'fog','spatter','dotted_line', 'zigzag',\n",
    "#          'canny_edges']\n",
    "# CORRUPTION_TYPES = ['impulse_noise']\n",
    "\n",
    "# path_root = '../data/MNIST_C'\n",
    "# # clist = os.listdir(path_root)\n",
    "# for corruption in CORRUPTION_TYPES:\n",
    "#     randomlist = random.sample(range(0, 10000), 10000)\n",
    "\n",
    "#     path_images = os.path.join(path_root, corruption, 'test_images.npy')\n",
    "#     path_labels = os.path.join(path_root, corruption, 'test_labels.npy')\n",
    "#     path_images_shuffled = os.path.join(path_root, corruption, 'test_images_shuffled.npy')\n",
    "#     path_labels_shuffled = os.path.join(path_root, corruption, 'test_labels_shuffled.npy')\n",
    "    \n",
    "#     images = np.load(path_images)[randomlist]\n",
    "#     labels = np.load(path_labels)[randomlist]\n",
    "    \n",
    "#     np.save(path_images_shuffled, images)\n",
    "#     np.save(path_labels_shuffled, labels)\n",
    "\n",
    "# print('shuffled images and labels are saved')"
   ]
  }
 ],
 "metadata": {
  "colab": {
   "authorship_tag": "ABX9TyPeBIn3uPq/4TvJCOo9H7tY",
   "machine_shape": "hm",
   "name": "stimuli_util.ipynb",
   "provenance": []
  },
  "kernelspec": {
   "display_name": "pytorch",
   "language": "python",
   "name": "pytorch"
  },
  "language_info": {
   "codemirror_mode": {
    "name": "ipython",
    "version": 3
   },
   "file_extension": ".py",
   "mimetype": "text/x-python",
   "name": "python",
   "nbconvert_exporter": "python",
   "pygments_lexer": "ipython3",
   "version": "3.8.13"
  }
 },
 "nbformat": 4,
 "nbformat_minor": 4
}
