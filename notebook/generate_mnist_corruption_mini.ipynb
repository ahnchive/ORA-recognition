{
 "cells": [
  {
   "cell_type": "markdown",
   "metadata": {},
   "source": [
    "# Generating dataset \n"
   ]
  },
  {
   "cell_type": "code",
   "execution_count": 1,
   "metadata": {},
   "outputs": [],
   "source": [
    "%matplotlib inline \n",
    "import matplotlib.pyplot as plt\n",
    "\n",
    "import torch\n",
    "import torchvision.transforms as T\n",
    "from torchvision import datasets\n",
    "import copy\n",
    "import os\n",
    "from tqdm.notebook import tqdm\n",
    "import numpy as np \n",
    "np.set_printoptions(suppress=True)\n",
    "\n",
    "import random"
   ]
  },
  {
   "cell_type": "markdown",
   "metadata": {},
   "source": [
    "# Create mini-mnist C dataset for mini testing\n",
    "get 1000 samples from each corruption dataset * 15 corruptions = 15000 sample images and labels"
   ]
  },
  {
   "cell_type": "code",
   "execution_count": 2,
   "metadata": {},
   "outputs": [
    {
     "name": "stdout",
     "output_type": "stream",
     "text": [
      "(16000, 28, 28, 1)\n",
      "(16000,)\n"
     ]
    }
   ],
   "source": [
    "random.seed(10)\n",
    "randomlist = random.sample(range(0, 10000), 1000)\n",
    "# randomlist = [i for i in range(1000)]\n",
    "# print(randomlist)\n",
    "CORRUPTION_TYPES = ['identity', \n",
    "         'shot_noise', 'impulse_noise','glass_blur','motion_blur',\n",
    "         'shear', 'scale',  'rotate',  'brightness',  'translate',\n",
    "         'stripe', 'fog','spatter','dotted_line', 'zigzag',\n",
    "         'canny_edges']\n",
    "\n",
    "path_root = '../data/MNIST_C'\n",
    "# clist = os.listdir(path_root)\n",
    "ilist = []\n",
    "llist = []\n",
    "for corruption in CORRUPTION_TYPES:\n",
    "    path_images = os.path.join(path_root, corruption, 'test_images.npy')\n",
    "    path_labels = os.path.join(path_root, corruption, 'test_labels.npy')\n",
    "    images = np.load(path_images)\n",
    "    labels = np.load(path_labels)\n",
    "    \n",
    "    ilist.append(images[randomlist])\n",
    "    llist.append(labels[randomlist])\n",
    "\n",
    "selected_images = np.vstack(ilist)\n",
    "selected_labels = np.hstack(llist)\n",
    "print(selected_images.shape) #(16000, 28, 28, 1)\n",
    "print(selected_labels.shape) #(16000,)"
   ]
  },
  {
   "cell_type": "code",
   "execution_count": 3,
   "metadata": {},
   "outputs": [
    {
     "name": "stdout",
     "output_type": "stream",
     "text": [
      "torch.Size([16000, 1, 28, 28])\n",
      "torch.Size([16000, 10])\n"
     ]
    }
   ],
   "source": [
    "#tranform to tensorized images (int8->float32,0-1) & one-hot vector for labels\n",
    "transform_tohot = T.Lambda(lambda y: torch.zeros(10, dtype=torch.float).scatter_(0, torch.tensor(y), value=1))\n",
    "selected_images_tensorized = torch.stack([T.ToTensor()(im) for im in selected_images])\n",
    "selected_labels_tensorized = torch.stack([transform_tohot(label) for label in selected_labels])\n",
    "print(selected_images_tensorized.shape) #torch.Size([16000, 1, 28, 28])\n",
    "print(selected_labels_tensorized.shape) #torch.Size([16000, 10])"
   ]
  },
  {
   "cell_type": "code",
   "execution_count": 4,
   "metadata": {},
   "outputs": [
    {
     "name": "stdout",
     "output_type": "stream",
     "text": [
      "dataset saved to disk\n"
     ]
    }
   ],
   "source": [
    "# save tensorized dataset\n",
    "path_save = os.path.join(path_root, 'mnistc_mini.pt')\n",
    "torch.save((selected_images_tensorized, selected_labels_tensorized), path_save)\n",
    "print('dataset saved to disk')"
   ]
  },
  {
   "cell_type": "code",
   "execution_count": 31,
   "metadata": {},
   "outputs": [
    {
     "name": "stdout",
     "output_type": "stream",
     "text": [
      "shuffled images and labels are saved\n"
     ]
    }
   ],
   "source": [
    "##################################\n",
    "# shuffle the order original mnistc (for visualization)\n",
    "############################\n",
    "# # print(randomlist)\n",
    "# CORRUPTION_TYPES = ['identity', \n",
    "#          'shot_noise', 'impulse_noise','glass_blur','motion_blur',\n",
    "#          'shear', 'scale',  'rotate',  'brightness',  'translate',\n",
    "#          'stripe', 'fog','spatter','dotted_line', 'zigzag',\n",
    "#          'canny_edges']\n",
    "# CORRUPTION_TYPES = ['impulse_noise']\n",
    "\n",
    "# path_root = '../data/MNIST_C'\n",
    "# # clist = os.listdir(path_root)\n",
    "# for corruption in CORRUPTION_TYPES:\n",
    "#     randomlist = random.sample(range(0, 10000), 10000)\n",
    "\n",
    "#     path_images = os.path.join(path_root, corruption, 'test_images.npy')\n",
    "#     path_labels = os.path.join(path_root, corruption, 'test_labels.npy')\n",
    "#     path_images_shuffled = os.path.join(path_root, corruption, 'test_images_shuffled.npy')\n",
    "#     path_labels_shuffled = os.path.join(path_root, corruption, 'test_labels_shuffled.npy')\n",
    "    \n",
    "#     images = np.load(path_images)[randomlist]\n",
    "#     labels = np.load(path_labels)[randomlist]\n",
    "    \n",
    "#     np.save(path_images_shuffled, images)\n",
    "#     np.save(path_labels_shuffled, labels)\n",
    "\n",
    "# print('shuffled images and labels are saved')"
   ]
  },
  {
   "cell_type": "markdown",
   "metadata": {},
   "source": [
    "# Create dataset from experimental stimuli"
   ]
  },
  {
   "cell_type": "code",
   "execution_count": 67,
   "metadata": {},
   "outputs": [],
   "source": [
    "import os\n",
    "from PIL import Image\n",
    "import numpy as np\n",
    "import torch\n",
    "import torchvision.transforms as T\n",
    "\n",
    "%matplotlib inline \n",
    "import matplotlib.pyplot as plt\n",
    "\n",
    "# set the directory where the PNG images are stored\n",
    "expname ='exp2' # 'exp1'\n",
    "\n",
    "\n",
    "# create an empty list to store the images as NumPy arrays\n",
    "images_array = []\n",
    "labels_array = []\n",
    "indices = []\n",
    "files = []\n",
    "\n",
    "if expname=='exp1':\n",
    "    directory = '../stimuli/stimuli-exp1-step5'\n",
    "    corruptions = ['impulse_noise', 'spatter', 'glass_blur', 'fog', \n",
    "     'motion_blur', 'dotted_line', 'zigzag', 'shot_noise']\n",
    "elif expname=='exp2':\n",
    "    directory = '../stimuli/stimuli-exp2-step5'\n",
    "    corruptions = ['impulse_noise','zigzag', 'fog',  'glass_blur', \n",
    "     'motion_blur', 'shot_noise']\n",
    "# loop through all the files in the directory\n",
    "for corruption in corruptions:\n",
    "    for filename in os.listdir(directory):\n",
    "\n",
    "        if filename.endswith('.png') and filename.startswith(corruption):\n",
    "            pass\n",
    "        else:\n",
    "            continue\n",
    "        files.append(filename)\n",
    "\n",
    "        # get corruption name\n",
    "#         cname = None\n",
    "#         for corruption in corruptions:\n",
    "#             if corruption in filename:\n",
    "#                 cname = corruption\n",
    "\n",
    "#         assert cname is not None\n",
    "\n",
    "        # get trial idx\n",
    "        if expname =='exp1':\n",
    "            idx = int(filename.split('.')[0].split('_')[-3][1:])\n",
    "        elif expname =='exp2':\n",
    "            idx = int(filename.split('.')[0].split('_')[-4][1:])\n",
    "    #     gt = int(filename.split('.')[0].split('_')[-2][-1])\n",
    "        indices.append(idx)\n",
    "        path_images = os.path.join('../../data/MNIST_C', corruption, 'test_images.npy')\n",
    "        path_labels = os.path.join('../../data/MNIST_C', corruption, 'test_labels.npy')\n",
    "        images = np.load(path_images)\n",
    "        labels = np.load(path_labels)   \n",
    "\n",
    "\n",
    "        # get images and labels\n",
    "        images_array.append(images[idx])\n",
    "        labels_array.append(labels[idx])\n",
    "\n",
    "# convert the list of arrays to a single NumPy array\n",
    "images_array = np.array(images_array)\n",
    "labels_array = np.array(labels_array)"
   ]
  },
  {
   "cell_type": "code",
   "execution_count": 68,
   "metadata": {},
   "outputs": [
    {
     "name": "stdout",
     "output_type": "stream",
     "text": [
      "torch.Size([120, 1, 28, 28])\n",
      "torch.Size([120, 10])\n"
     ]
    }
   ],
   "source": [
    "#tranform to tensorized images (int8->float32,0-1) & one-hot vector for labels\n",
    "transform_tohot = T.Lambda(lambda y: torch.zeros(10, dtype=torch.float).scatter_(0, torch.tensor(y), value=1))\n",
    "images_tensorized = torch.stack([T.ToTensor()(im) for im in images_array])\n",
    "labels_tensorized = torch.stack([transform_tohot(label) for label in labels_array])\n",
    "print(images_tensorized.shape) #torch.Size([16000, 1, 28, 28])\n",
    "print(labels_tensorized.shape) #torch.Size([16000, 10])"
   ]
  },
  {
   "cell_type": "code",
   "execution_count": 69,
   "metadata": {},
   "outputs": [
    {
     "name": "stdout",
     "output_type": "stream",
     "text": [
      "dataset saved to disk\n"
     ]
    }
   ],
   "source": [
    "# save tensorized dataset\n",
    "\n",
    "path_save = os.path.join('../../data/MNIST_C', f'mnistc_{expname}.pt')\n",
    "torch.save((images_tensorized, labels_tensorized), path_save)\n",
    "np.save(f'../../data/MNIST_C/minstc_{expname}_filename.npy', np.array(files))\n",
    "print('dataset saved to disk')"
   ]
  },
  {
   "cell_type": "code",
   "execution_count": 71,
   "metadata": {},
   "outputs": [
    {
     "data": {
      "image/png": "[encoded data removed]",
      "text/plain": [
       "<Figure size 1440x216 with 10 Axes>"
      ]
     },
     "metadata": {},
     "output_type": "display_data"
    },
    {
     "name": "stdout",
     "output_type": "stream",
     "text": [
      "[tensor(1), tensor(6), tensor(4), tensor(1), tensor(8), tensor(2), tensor(2), tensor(6), tensor(9), tensor(1)]\n",
      "['impulse_noise_t4951_g1_c2_o8.png', 'impulse_noise_t3344_g6_c2_o8.png', 'impulse_noise_t3410_g4_c5_o9.png', 'impulse_noise_t6628_g1_c3_o9.png', 'impulse_noise_t6625_g8_c1_o3.png', 'impulse_noise_t924_g2_c7_o3.png', 'impulse_noise_t4248_g2_c8_o9.png', 'impulse_noise_t3853_g6_c8_o0.png', 'impulse_noise_t3926_g9_c8_o3.png', 'impulse_noise_t7856_g1_c2_o8.png']\n"
     ]
    }
   ],
   "source": [
    "# visualize images\n",
    "def plot(imgs, num_rows = 1, with_orig=False, row_title=None, cmap='gray', **imshow_kwargs):\n",
    "#     if not isinstance(imgs, list):\n",
    "#         raise ValueError('input images should be list form')\n",
    "\n",
    "    num_cols = int(len(imgs)/num_rows) + (len(imgs)%num_rows > 0)\n",
    "    fig, axs = plt.subplots(nrows=num_rows, ncols=num_cols, squeeze=False)\n",
    "#     import pdb; pdb.set_trace()\n",
    "    for row_idx in range(num_rows):\n",
    "        for col_idx, img in enumerate(imgs[row_idx*num_cols:(row_idx+1)*num_cols]):\n",
    "            ax = axs[row_idx, col_idx]\n",
    "            ax.imshow(np.asarray(img), cmap=cmap, vmin=0, vmax=1,  **imshow_kwargs)\n",
    "            ax.set(xticklabels=[], yticklabels=[], xticks=[], yticks=[])\n",
    "\n",
    "#     if with_orig:\n",
    "#         axs[0, 0].set(title='Original image')\n",
    "#         axs[0, 0].title.set_size(8)\n",
    "    if row_title is not None:\n",
    "        for row_idx in range(num_rows):\n",
    "            axs[row_idx, 0].set(ylabel=row_title[row_idx])\n",
    "    plt.tight_layout()\n",
    "#     plt.savefig('image-sample-resolution.pdf', bbox_inches='tight', dpi=300)\n",
    "    plt.show()\n",
    "\n",
    "    \n",
    "plt.rcParams[\"figure.figsize\"] = (20,3)\n",
    "istart=10\n",
    "iend = 20# 90 #152\n",
    "plottedimgs = [torch.movedim(images_tensorized[i], 0 ,-1) for i in range(istart, iend)]\n",
    "plot(plottedimgs, num_rows=1, cmap='gray_r')\n",
    "\n",
    "print([l.argmax() for l in labels_tensorized[istart: iend]])\n",
    "print([f for f in files[istart: iend]])"
   ]
  },
  {
   "cell_type": "code",
   "execution_count": 31,
   "metadata": {},
   "outputs": [
    {
     "name": "stdout",
     "output_type": "stream",
     "text": [
      "shuffled images and labels are saved\n"
     ]
    }
   ],
   "source": [
    "##################################\n",
    "# shuffle the order original mnistc (for visualization)\n",
    "############################\n",
    "# # print(randomlist)\n",
    "# CORRUPTION_TYPES = ['identity', \n",
    "#          'shot_noise', 'impulse_noise','glass_blur','motion_blur',\n",
    "#          'shear', 'scale',  'rotate',  'brightness',  'translate',\n",
    "#          'stripe', 'fog','spatter','dotted_line', 'zigzag',\n",
    "#          'canny_edges']\n",
    "# CORRUPTION_TYPES = ['impulse_noise']\n",
    "\n",
    "# path_root = '../data/MNIST_C'\n",
    "# # clist = os.listdir(path_root)\n",
    "# for corruption in CORRUPTION_TYPES:\n",
    "#     randomlist = random.sample(range(0, 10000), 10000)\n",
    "\n",
    "#     path_images = os.path.join(path_root, corruption, 'test_images.npy')\n",
    "#     path_labels = os.path.join(path_root, corruption, 'test_labels.npy')\n",
    "#     path_images_shuffled = os.path.join(path_root, corruption, 'test_images_shuffled.npy')\n",
    "#     path_labels_shuffled = os.path.join(path_root, corruption, 'test_labels_shuffled.npy')\n",
    "    \n",
    "#     images = np.load(path_images)[randomlist]\n",
    "#     labels = np.load(path_labels)[randomlist]\n",
    "    \n",
    "#     np.save(path_images_shuffled, images)\n",
    "#     np.save(path_labels_shuffled, labels)\n",
    "\n",
    "# print('shuffled images and labels are saved')"
   ]
  }
 ],
 "metadata": {
  "colab": {
   "authorship_tag": "ABX9TyPeBIn3uPq/4TvJCOo9H7tY",
   "machine_shape": "hm",
   "name": "stimuli_util.ipynb",
   "provenance": []
  },
  "kernelspec": {
   "display_name": "pytorch",
   "language": "python",
   "name": "pytorch"
  },
  "language_info": {
   "codemirror_mode": {
    "name": "ipython",
    "version": 3
   },
   "file_extension": ".py",
   "mimetype": "text/x-python",
   "name": "python",
   "nbconvert_exporter": "python",
   "pygments_lexer": "ipython3",
   "version": "3.8.13"
  }
 },
 "nbformat": 4,
 "nbformat_minor": 4
}
