{
 "cells": [
  {
   "cell_type": "markdown",
   "metadata": {},
   "source": [
    "# Generating dataset "
   ]
  },
  {
   "cell_type": "code",
   "execution_count": null,
   "metadata": {},
   "outputs": [],
   "source": [
    "# set current directory (where this repo is located)\n",
    "import os\n",
    "PROJECT_ROOT = '/home/young/workspace/reconstruction/recon-mnistc'\n",
    "os.chdir(PROJECT_ROOT)\n",
    "print('current directory:', os.getcwd())"
   ]
  },
  {
   "cell_type": "code",
   "execution_count": 1,
   "metadata": {},
   "outputs": [],
   "source": [
    "%matplotlib inline \n",
    "import matplotlib.pyplot as plt\n",
    "\n",
    "import torch\n",
    "import torchvision.transforms as T\n",
    "from torchvision import datasets\n",
    "import copy\n",
    "import os\n",
    "from tqdm.notebook import tqdm\n",
    "import numpy as np \n",
    "np.set_printoptions(suppress=True)\n",
    "\n",
    "import random"
   ]
  },
  {
   "cell_type": "markdown",
   "metadata": {},
   "source": [
    "# Mnist with pixel shift (translation only)\n",
    "- we allowed upto 2 pixels shifts with zeropadding as done in original capsnet paper, Sabour 2017)"
   ]
  },
  {
   "cell_type": "code",
   "execution_count": 14,
   "metadata": {},
   "outputs": [
    {
     "name": "stdout",
     "output_type": "stream",
     "text": [
      "torch.Size([60000, 1, 28, 28])\n",
      "torch.Size([60000, 10])\n"
     ]
    }
   ],
   "source": [
    "def get_tensorized_dataset(im_set):\n",
    "    images = []\n",
    "    labels = []\n",
    "    for img, label in im_set:\n",
    "        img = np.array(img)\n",
    "        images.append(img)    \n",
    "        labels.append(label)\n",
    "        \n",
    "    # convert to tensor and one-hot vector\n",
    "    transform_tohot = T.Lambda(lambda y: torch.zeros(10, dtype=torch.float).scatter_(0, torch.tensor(y), value=1))\n",
    "    images_tensorized = torch.stack([T.ToTensor()(im) for im in images])\n",
    "    labels_tensorized = torch.stack([transform_tohot(label) for label in labels])\n",
    "    \n",
    "    return images_tensorized, labels_tensorized\n",
    "\n",
    "def plot(imgs, num_rows = 1, with_orig=False, row_title=None, **imshow_kwargs):\n",
    "#     if not isinstance(imgs, list):\n",
    "#         raise ValueError('input images should be list form')\n",
    "\n",
    "    num_cols = int(len(imgs)/num_rows) + (len(imgs)%num_rows > 0)\n",
    "    fig, axs = plt.subplots(nrows=num_rows, ncols=num_cols, squeeze=False)\n",
    "#     import pdb; pdb.set_trace()\n",
    "    for row_idx in range(num_rows):\n",
    "        for col_idx, img in enumerate(imgs[row_idx*num_cols:(row_idx+1)*num_cols]):\n",
    "            ax = axs[row_idx, col_idx]\n",
    "            ax.imshow(np.asarray(img), cmap='gray', vmin=0, vmax=1,  **imshow_kwargs)\n",
    "            ax.set(xticklabels=[], yticklabels=[], xticks=[], yticks=[])\n",
    "\n",
    "#     if with_orig:\n",
    "#         axs[0, 0].set(title='Original image')\n",
    "#         axs[0, 0].title.set_size(8)\n",
    "    if row_title is not None:\n",
    "        for row_idx in range(num_rows):\n",
    "            axs[row_idx, 0].set(ylabel=row_title[row_idx])\n",
    "    plt.show()\n",
    "#     plt.tight_layout()\n",
    "\n",
    "# load original mnist\n",
    "path_save = '../data/MNIST_shift'\n",
    "dataset_type = 'train'\n",
    "\n",
    "\n",
    "if dataset_type == 'train':\n",
    "    im_set = datasets.MNIST('../data/',train=True, download=False)\n",
    "elif dataset_type == 'test':\n",
    "    im_set = datasets.MNIST('../data/',train=False, download=False)\n",
    "\n",
    "orig_images_tensorized, orig_labels_tensorized = get_tensorized_dataset(im_set)\n",
    "print(orig_images_tensorized.size())\n",
    "print(orig_labels_tensorized.size())"
   ]
  },
  {
   "cell_type": "code",
   "execution_count": 15,
   "metadata": {},
   "outputs": [
    {
     "name": "stdout",
     "output_type": "stream",
     "text": [
      "torch.Size([60000, 1, 28, 28])\n"
     ]
    }
   ],
   "source": [
    "# shifted version version\n",
    "max_portion = [0.08, 0.08] # this corresponds to upto 2 pixel changes of 28x28 image when round up; sourcecode: https://pytorch.org/vision/stable/generated/torchvision.transforms.RandomAffine.html#torchvision.transforms.RandomAffine\n",
    "\n",
    "transforms = T.Compose([ T.RandomAffine(degrees=0, translate=max_portion), T.ToTensor()])\n",
    "\n",
    "if dataset_type == 'train':\n",
    "    im_set = datasets.MNIST('../data/',train=True, download=False, transform=transforms,\n",
    "                        target_transform=T.Lambda(lambda y: torch.zeros(10, dtype=torch.float).scatter_(0, torch.tensor(y), value=1)))\n",
    "elif dataset_type == 'test':\n",
    "    im_set = datasets.MNIST('../data/',train=False, download=False, transform=transforms,\n",
    "                        target_transform=T.Lambda(lambda y: torch.zeros(10, dtype=torch.float).scatter_(0, torch.tensor(y), value=1)))\n",
    "\n",
    "    \n",
    "images = []\n",
    "# labels = []\n",
    "for img, label in im_set:\n",
    "    images.append(img)    \n",
    "#     labels.append(label)\n",
    "        \n",
    "shift_images_tensorized = torch.stack([im for im in images])\n",
    "print(shift_images_tensorized.size())"
   ]
  },
  {
   "cell_type": "code",
   "execution_count": 16,
   "metadata": {},
   "outputs": [
    {
     "data": {
      "image/png": "[encoded data removed]",
      "text/plain": [
       "<Figure size 1440x216 with 10 Axes>"
      ]
     },
     "metadata": {},
     "output_type": "display_data"
    },
    {
     "data": {
      "image/png": "[encoded data removed]",
      "text/plain": [
       "<Figure size 1440x216 with 10 Axes>"
      ]
     },
     "metadata": {},
     "output_type": "display_data"
    },
    {
     "name": "stdout",
     "output_type": "stream",
     "text": [
      "[tensor(9), tensor(6), tensor(9), tensor(0), tensor(7), tensor(1), tensor(4), tensor(2), tensor(7), tensor(3)]\n"
     ]
    }
   ],
   "source": [
    "# visualize erased images\n",
    "plt.rcParams[\"figure.figsize\"] = (20,3)\n",
    "i =90#152\n",
    "plottedimgs = [torch.movedim(shift_images_tensorized[i], 0 ,-1) for i in range(10*i,10*(i+1))]\n",
    "plot(plottedimgs, num_rows=1)\n",
    "plottedimgs = [torch.movedim(orig_images_tensorized[i], 0 ,-1) for i in range(10*i,10*(i+1))]\n",
    "plot(plottedimgs, num_rows=1)\n",
    "print([l.argmax() for l in orig_labels_tensorized[10*i:10*(i+1)]])"
   ]
  },
  {
   "cell_type": "code",
   "execution_count": 17,
   "metadata": {},
   "outputs": [
    {
     "name": "stdout",
     "output_type": "stream",
     "text": [
      "../data/MNIST_shift/train_shift_by_2pixel.pt saved to disk\n"
     ]
    }
   ],
   "source": [
    "# save tensors \n",
    "filename = os.path.join(path_save, f'{dataset_type}_shift_by_2pixel.pt')\n",
    "torch.save((shift_images_tensorized, orig_labels_tensorized), filename)\n",
    "print(f'{filename} saved to disk')\n"
   ]
  },
  {
   "cell_type": "markdown",
   "metadata": {},
   "source": [
    "# c.f. affine augmentation\n"
   ]
  },
  {
   "cell_type": "code",
   "execution_count": 4,
   "metadata": {},
   "outputs": [
    {
     "name": "stdout",
     "output_type": "stream",
     "text": [
      "torch.Size([10000, 1, 28, 28])\n",
      "torch.Size([10000, 10])\n"
     ]
    }
   ],
   "source": [
    "def get_tensorized_dataset(im_set):\n",
    "    images = []\n",
    "    labels = []\n",
    "    for img, label in im_set:\n",
    "        img = np.array(img)\n",
    "        images.append(img)    \n",
    "        labels.append(label)\n",
    "        \n",
    "    # convert to tensor and one-hot vector\n",
    "    transform_tohot = T.Lambda(lambda y: torch.zeros(10, dtype=torch.float).scatter_(0, torch.tensor(y), value=1))\n",
    "    images_tensorized = torch.stack([T.ToTensor()(im) for im in images])\n",
    "    labels_tensorized = torch.stack([transform_tohot(label) for label in labels])\n",
    "    \n",
    "    return images_tensorized, labels_tensorized\n",
    "\n",
    "def plot(imgs, num_rows = 1, with_orig=False, row_title=None, **imshow_kwargs):\n",
    "#     if not isinstance(imgs, list):\n",
    "#         raise ValueError('input images should be list form')\n",
    "\n",
    "    num_cols = int(len(imgs)/num_rows) + (len(imgs)%num_rows > 0)\n",
    "    fig, axs = plt.subplots(nrows=num_rows, ncols=num_cols, squeeze=False)\n",
    "#     import pdb; pdb.set_trace()\n",
    "    for row_idx in range(num_rows):\n",
    "        for col_idx, img in enumerate(imgs[row_idx*num_cols:(row_idx+1)*num_cols]):\n",
    "            ax = axs[row_idx, col_idx]\n",
    "            ax.imshow(np.asarray(img), cmap='gray', vmin=0, vmax=1,  **imshow_kwargs)\n",
    "            ax.set(xticklabels=[], yticklabels=[], xticks=[], yticks=[])\n",
    "\n",
    "#     if with_orig:\n",
    "#         axs[0, 0].set(title='Original image')\n",
    "#         axs[0, 0].title.set_size(8)\n",
    "    if row_title is not None:\n",
    "        for row_idx in range(num_rows):\n",
    "            axs[row_idx, 0].set(ylabel=row_title[row_idx])\n",
    "    plt.show()\n",
    "#     plt.tight_layout()\n",
    "\n",
    "# load original mnist\n",
    "dataset_type = 'test'\n",
    "\n",
    "\n",
    "if dataset_type == 'train':\n",
    "    im_set = datasets.MNIST('../data/',train=True, download=False)\n",
    "elif dataset_type == 'test':\n",
    "    im_set = datasets.MNIST('../data/',train=False, download=False)\n",
    "\n",
    "orig_images_tensorized, orig_labels_tensorized = get_tensorized_dataset(im_set)\n",
    "print(orig_images_tensorized.size())\n",
    "print(orig_labels_tensorized.size())\n",
    "\n"
   ]
  },
  {
   "cell_type": "code",
   "execution_count": 51,
   "metadata": {},
   "outputs": [
    {
     "name": "stdout",
     "output_type": "stream",
     "text": [
      "torch.Size([10000, 1, 28, 28])\n"
     ]
    }
   ],
   "source": [
    "transforms = T.Compose([  T.RandomAffine(degrees=30, translate=(0.08, 0.08), scale=(0.7, 1.0), shear=30), T.ToTensor()])\n",
    "\n",
    "if dataset_type == 'train':\n",
    "    im_set = datasets.MNIST('../data/',train=True, download=False, transform=transforms,\n",
    "                        target_transform=T.Lambda(lambda y: torch.zeros(10, dtype=torch.float).scatter_(0, torch.tensor(y), value=1)))\n",
    "elif dataset_type == 'test':\n",
    "    im_set = datasets.MNIST('../data/',train=False, download=False, transform=transforms,\n",
    "                        target_transform=T.Lambda(lambda y: torch.zeros(10, dtype=torch.float).scatter_(0, torch.tensor(y), value=1)))\n",
    "\n",
    "    \n",
    "images = []\n",
    "# labels = []\n",
    "for img, label in im_set:\n",
    "    images.append(img)    \n",
    "#     labels.append(label)\n",
    "        \n",
    "shift_images_tensorized = torch.stack([im for im in images])\n",
    "print(shift_images_tensorized.size())"
   ]
  },
  {
   "cell_type": "code",
   "execution_count": 55,
   "metadata": {},
   "outputs": [
    {
     "data": {
      "image/png": "[encoded data removed]",
      "text/plain": [
       "<Figure size 1440x216 with 10 Axes>"
      ]
     },
     "metadata": {},
     "output_type": "display_data"
    },
    {
     "data": {
      "image/png": "[encoded data removed]",
      "text/plain": [
       "<Figure size 1440x216 with 10 Axes>"
      ]
     },
     "metadata": {},
     "output_type": "display_data"
    },
    {
     "name": "stdout",
     "output_type": "stream",
     "text": [
      "[tensor(3), tensor(9), tensor(5), tensor(2), tensor(1), tensor(3), tensor(1), tensor(3), tensor(6), tensor(5)]\n"
     ]
    }
   ],
   "source": [
    "# visualize erased images\n",
    "plt.rcParams[\"figure.figsize\"] = (20,3)\n",
    "i =50#152\n",
    "plottedimgs = [torch.movedim(orig_images_tensorized[i], 0 ,-1) for i in range(10*i,10*(i+1))]\n",
    "plot(plottedimgs, num_rows=1)\n",
    "plottedimgs = [torch.movedim(shift_images_tensorized[i], 0 ,-1) for i in range(10*i,10*(i+1))]\n",
    "plot(plottedimgs, num_rows=1)\n",
    "\n",
    "print([l.argmax() for l in orig_labels_tensorized[10*i:10*(i+1)]])"
   ]
  }
 ],
 "metadata": {
  "colab": {
   "authorship_tag": "ABX9TyPeBIn3uPq/4TvJCOo9H7tY",
   "machine_shape": "hm",
   "name": "stimuli_util.ipynb",
   "provenance": []
  },
  "kernelspec": {
   "display_name": "pytorch",
   "language": "python",
   "name": "pytorch"
  },
  "language_info": {
   "codemirror_mode": {
    "name": "ipython",
    "version": 3
   },
   "file_extension": ".py",
   "mimetype": "text/x-python",
   "name": "python",
   "nbconvert_exporter": "python",
   "pygments_lexer": "ipython3",
   "version": "3.8.13"
  }
 },
 "nbformat": 4,
 "nbformat_minor": 4
}
