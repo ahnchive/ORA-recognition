{
 "cells": [
  {
   "cell_type": "markdown",
   "metadata": {},
   "source": [
    "# Generating dataset \n",
    "This notebook shows how to generate the train and test set for the multimnist and multimnist_cluttered tasks"
   ]
  },
  {
   "cell_type": "code",
   "execution_count": 1,
   "metadata": {},
   "outputs": [
    {
     "name": "stderr",
     "output_type": "stream",
     "text": [
      "/home/exx/.conda/envs/pytorch/lib/python3.8/site-packages/tqdm/auto.py:22: TqdmWarning: IProgress not found. Please update jupyter and ipywidgets. See https://ipywidgets.readthedocs.io/en/stable/user_install.html\n",
      "  from .autonotebook import tqdm as notebook_tqdm\n"
     ]
    }
   ],
   "source": [
    "%matplotlib inline \n",
    "import matplotlib.pyplot as plt\n",
    "\n",
    "import torch\n",
    "import torchvision.transforms as T\n",
    "from torchvision import datasets\n",
    "import copy\n",
    "import os\n",
    "from tqdm.notebook import tqdm\n",
    "import numpy as np \n",
    "np.set_printoptions(suppress=True)\n",
    "\n",
    "import random"
   ]
  },
  {
   "cell_type": "markdown",
   "metadata": {},
   "source": [
    "# create mini-mnist C dataset\n",
    "get 1000 samples from each corruption dataset * 15 corruptions = 15000 sample images and labels"
   ]
  },
  {
   "cell_type": "code",
   "execution_count": 2,
   "metadata": {},
   "outputs": [
    {
     "name": "stdout",
     "output_type": "stream",
     "text": [
      "(16000, 28, 28, 1)\n",
      "(16000,)\n"
     ]
    }
   ],
   "source": [
    "random.seed(10)\n",
    "randomlist = random.sample(range(0, 10000), 1000)\n",
    "# randomlist = [i for i in range(1000)]\n",
    "# print(randomlist)\n",
    "CORRUPTION_TYPES = ['identity', \n",
    "         'shot_noise', 'impulse_noise','glass_blur','motion_blur',\n",
    "         'shear', 'scale',  'rotate',  'brightness',  'translate',\n",
    "         'stripe', 'fog','spatter','dotted_line', 'zigzag',\n",
    "         'canny_edges']\n",
    "\n",
    "path_root = '../data/MNIST_C'\n",
    "# clist = os.listdir(path_root)\n",
    "ilist = []\n",
    "llist = []\n",
    "for corruption in CORRUPTION_TYPES:\n",
    "    path_images = os.path.join(path_root, corruption, 'test_images.npy')\n",
    "    path_labels = os.path.join(path_root, corruption, 'test_labels.npy')\n",
    "    images = np.load(path_images)\n",
    "    labels = np.load(path_labels)\n",
    "    \n",
    "    ilist.append(images[randomlist])\n",
    "    llist.append(labels[randomlist])\n",
    "\n",
    "selected_images = np.vstack(ilist)\n",
    "selected_labels = np.hstack(llist)\n",
    "print(selected_images.shape) #(16000, 28, 28, 1)\n",
    "print(selected_labels.shape) #(16000,)"
   ]
  },
  {
   "cell_type": "code",
   "execution_count": 3,
   "metadata": {},
   "outputs": [
    {
     "name": "stdout",
     "output_type": "stream",
     "text": [
      "torch.Size([16000, 1, 28, 28])\n",
      "torch.Size([16000, 10])\n"
     ]
    }
   ],
   "source": [
    "#tranform to tensorized images (int8->float32,0-1) & one-hot vector for labels\n",
    "transform_tohot = T.Lambda(lambda y: torch.zeros(10, dtype=torch.float).scatter_(0, torch.tensor(y), value=1))\n",
    "selected_images_tensorized = torch.stack([T.ToTensor()(im) for im in selected_images])\n",
    "selected_labels_tensorized = torch.stack([transform_tohot(label) for label in selected_labels])\n",
    "print(selected_images_tensorized.shape) #torch.Size([16000, 1, 28, 28])\n",
    "print(selected_labels_tensorized.shape) #torch.Size([16000, 10])"
   ]
  },
  {
   "cell_type": "code",
   "execution_count": 4,
   "metadata": {},
   "outputs": [
    {
     "name": "stdout",
     "output_type": "stream",
     "text": [
      "dataset saved to disk\n"
     ]
    }
   ],
   "source": [
    "# save tensorized dataset\n",
    "path_save = os.path.join(path_root, 'mnistc_mini.pt')\n",
    "torch.save((selected_images_tensorized, selected_labels_tensorized), path_save)\n",
    "print('dataset saved to disk')"
   ]
  },
  {
   "cell_type": "code",
   "execution_count": 31,
   "metadata": {},
   "outputs": [
    {
     "name": "stdout",
     "output_type": "stream",
     "text": [
      "shuffled images and labels are saved\n"
     ]
    }
   ],
   "source": [
    "##################################\n",
    "# shuffle the order original mnistc (for visualization)\n",
    "############################\n",
    "# # print(randomlist)\n",
    "# CORRUPTION_TYPES = ['identity', \n",
    "#          'shot_noise', 'impulse_noise','glass_blur','motion_blur',\n",
    "#          'shear', 'scale',  'rotate',  'brightness',  'translate',\n",
    "#          'stripe', 'fog','spatter','dotted_line', 'zigzag',\n",
    "#          'canny_edges']\n",
    "# CORRUPTION_TYPES = ['impulse_noise']\n",
    "\n",
    "# path_root = '../data/MNIST_C'\n",
    "# # clist = os.listdir(path_root)\n",
    "# for corruption in CORRUPTION_TYPES:\n",
    "#     randomlist = random.sample(range(0, 10000), 10000)\n",
    "\n",
    "#     path_images = os.path.join(path_root, corruption, 'test_images.npy')\n",
    "#     path_labels = os.path.join(path_root, corruption, 'test_labels.npy')\n",
    "#     path_images_shuffled = os.path.join(path_root, corruption, 'test_images_shuffled.npy')\n",
    "#     path_labels_shuffled = os.path.join(path_root, corruption, 'test_labels_shuffled.npy')\n",
    "    \n",
    "#     images = np.load(path_images)[randomlist]\n",
    "#     labels = np.load(path_labels)[randomlist]\n",
    "    \n",
    "#     np.save(path_images_shuffled, images)\n",
    "#     np.save(path_labels_shuffled, labels)\n",
    "\n",
    "# print('shuffled images and labels are saved')"
   ]
  },
  {
   "cell_type": "markdown",
   "metadata": {},
   "source": [
    "# mnist with background\n",
    "download dataset from here: https://sites.google.com/a/lisa.iro.umontreal.ca/public_static_twiki/variations-on-the-mnist-digits\n"
   ]
  },
  {
   "cell_type": "code",
   "execution_count": 93,
   "metadata": {},
   "outputs": [
    {
     "name": "stdout",
     "output_type": "stream",
     "text": [
      "torch.Size([10000, 1, 28, 28])\n",
      "torch.Size([10000, 10])\n"
     ]
    }
   ],
   "source": [
    "# get original dataset\n",
    "path_data = '../data/MNIST_bgimage/'\n",
    "dataset_type = 'test'\n",
    "\n",
    "def get_tensorized_dataset(im_set):\n",
    "    images = []\n",
    "    labels = []\n",
    "    for img, label in im_set:\n",
    "        img = np.array(img)\n",
    "        images.append(img)    \n",
    "        labels.append(label)\n",
    "        \n",
    "    # convert to tensor and one-hot vector\n",
    "    transform_tohot = T.Lambda(lambda y: torch.zeros(10, dtype=torch.float).scatter_(0, torch.tensor(y), value=1))\n",
    "    images_tensorized = torch.stack([T.ToTensor()(im) for im in images])\n",
    "    labels_tensorized = torch.stack([transform_tohot(label) for label in labels])\n",
    "    \n",
    "    return images_tensorized, labels_tensorized\n",
    "\n",
    "if dataset_type == 'train':\n",
    "    im_set = datasets.MNIST('../data/',train=True, download=False)\n",
    "elif dataset_type == 'test':\n",
    "    im_set = datasets.MNIST('../data/',train=False, download=False)\n",
    "\n",
    "orig_images_tensorized, orig_labels_tensorized = get_tensorized_dataset(im_set)\n",
    "print(orig_images_tensorized.size())\n",
    "print(orig_labels_tensorized.size())"
   ]
  },
  {
   "cell_type": "code",
   "execution_count": 94,
   "metadata": {},
   "outputs": [
    {
     "name": "stdout",
     "output_type": "stream",
     "text": [
      "torch.Size([50000, 1, 28, 28])\n",
      "torch.Size([50000, 10])\n"
     ]
    }
   ],
   "source": [
    "def get_tensorized_dataset(im_set):\n",
    "    \n",
    "    images = []\n",
    "    labels = []\n",
    "    for img, label in im_set:\n",
    "        img = np.array(img)\n",
    "        img = img.reshape([28,28]).T\n",
    "        images.append(img)\n",
    "        labels.append(int(label[0]))\n",
    "        \n",
    "    # convert to tensor and one-hot vector\n",
    "    transform_tohot = T.Lambda(lambda y: torch.zeros(10, dtype=torch.float).scatter_(0, torch.tensor(y), value=1))\n",
    "    images_tensorized = torch.stack([T.ToTensor()(im) for im in images])\n",
    "    labels_tensorized = torch.stack([transform_tohot(label) for label in labels])\n",
    "    \n",
    "    return images_tensorized, labels_tensorized\n",
    "\n",
    "def plot(imgs, num_rows = 1, with_orig=False, row_title=None, **imshow_kwargs):\n",
    "#     if not isinstance(imgs, list):\n",
    "#         raise ValueError('input images should be list form')\n",
    "\n",
    "    num_cols = int(len(imgs)/num_rows) + (len(imgs)%num_rows > 0)\n",
    "    fig, axs = plt.subplots(nrows=num_rows, ncols=num_cols, squeeze=False)\n",
    "#     import pdb; pdb.set_trace()\n",
    "    for row_idx in range(num_rows):\n",
    "        for col_idx, img in enumerate(imgs[row_idx*num_cols:(row_idx+1)*num_cols]):\n",
    "            ax = axs[row_idx, col_idx]\n",
    "            ax.imshow(np.asarray(img), cmap='gray', vmin=0, vmax=1,  **imshow_kwargs)\n",
    "            ax.set(xticklabels=[], yticklabels=[], xticks=[], yticks=[])\n",
    "\n",
    "#     if with_orig:\n",
    "#         axs[0, 0].set(title='Original image')\n",
    "#         axs[0, 0].title.set_size(8)\n",
    "    if row_title is not None:\n",
    "        for row_idx in range(num_rows):\n",
    "            axs[row_idx, 0].set(ylabel=row_title[row_idx])\n",
    "    plt.show()\n",
    "#     plt.tight_layout()\n",
    "\n",
    "\n",
    "# load data and tensorize\n",
    "\n",
    "\n",
    "data = np.loadtxt(path_data+f'mnist_background_images_{dataset_type}.amat')\n",
    "add_im_set = zip(data[:, :-1], data[:, -1:])\n",
    "\n",
    "add_images_tensorized, add_labels_tensorized = get_tensorized_dataset(add_im_set)\n",
    "add_images_tensorized = add_images_tensorized.type(torch.float32)\n",
    "add_labels_tensorized = add_labels_tensorized.type(torch.float32)\n",
    "\n",
    "print(add_images_tensorized.size())\n",
    "print(add_labels_tensorized.size())\n",
    "\n",
    "# torch.Size([12000, 1, 28, 28])\n",
    "# torch.Size([12000, 10])"
   ]
  },
  {
   "cell_type": "code",
   "execution_count": 95,
   "metadata": {},
   "outputs": [
    {
     "name": "stdout",
     "output_type": "stream",
     "text": [
      "torch.Size([60000, 1, 28, 28])\n",
      "torch.Size([60000, 10])\n"
     ]
    }
   ],
   "source": [
    "# concat\n",
    "concat_images = torch.cat([orig_images_tensorized, add_images_tensorized], dim=0)\n",
    "concat_labels = torch.cat([orig_labels_tensorized, add_labels_tensorized], dim=0)\n",
    "\n",
    "# shuffle\n",
    "shuffled_ids= torch.randperm(concat_images.shape[0])\n",
    "concat_images = concat_images[shuffled_ids]\n",
    "concat_labels = concat_labels[shuffled_ids]\n",
    "\n",
    "print(concat_images.size())\n",
    "print(concat_labels.size())"
   ]
  },
  {
   "cell_type": "code",
   "execution_count": 96,
   "metadata": {},
   "outputs": [
    {
     "data": {
      "image/png": "[encoded data removed]",
      "text/plain": [
       "<Figure size 1440x216 with 10 Axes>"
      ]
     },
     "metadata": {},
     "output_type": "display_data"
    },
    {
     "name": "stdout",
     "output_type": "stream",
     "text": [
      "[tensor(1), tensor(4), tensor(4), tensor(6), tensor(0), tensor(2), tensor(9), tensor(1), tensor(4), tensor(7)]\n"
     ]
    },
    {
     "data": {
      "image/png": "[encoded data removed]",
      "text/plain": [
       "<Figure size 1440x216 with 10 Axes>"
      ]
     },
     "metadata": {},
     "output_type": "display_data"
    },
    {
     "name": "stdout",
     "output_type": "stream",
     "text": [
      "[tensor(5), tensor(9), tensor(3), tensor(1), tensor(3), tensor(1), tensor(1), tensor(6), tensor(4), tensor(7)]\n"
     ]
    },
    {
     "data": {
      "image/png": "[encoded data removed]",
      "text/plain": [
       "<Figure size 1440x216 with 10 Axes>"
      ]
     },
     "metadata": {},
     "output_type": "display_data"
    },
    {
     "name": "stdout",
     "output_type": "stream",
     "text": [
      "[tensor(6), tensor(3), tensor(0), tensor(3), tensor(3), tensor(3), tensor(0), tensor(1), tensor(8), tensor(0)]\n"
     ]
    }
   ],
   "source": [
    "# visualize\n",
    "plt.rcParams[\"figure.figsize\"] = (20,3)\n",
    "i =90#152\n",
    "plottedimgs = [torch.movedim(orig_images_tensorized[i], 0 ,-1) for i in range(10*i,10*(i+1))]\n",
    "plot(plottedimgs, num_rows=1)\n",
    "print([l.argmax() for l in orig_labels_tensorized[10*i:10*(i+1)]])\n",
    "\n",
    "plottedimgs = [torch.movedim(add_images_tensorized[i], 0 ,-1) for i in range(10*i,10*(i+1))]\n",
    "plot(plottedimgs, num_rows=1)\n",
    "print([l.argmax() for l in add_labels_tensorized[10*i:10*(i+1)]])\n",
    "\n",
    "plottedimgs = [torch.movedim(concat_images[i], 0 ,-1) for i in range(10*i,10*(i+1))]\n",
    "plot(plottedimgs, num_rows=1)\n",
    "print([l.argmax() for l in concat_labels[10*i:10*(i+1)]])"
   ]
  },
  {
   "cell_type": "code",
   "execution_count": 74,
   "metadata": {},
   "outputs": [
    {
     "name": "stdout",
     "output_type": "stream",
     "text": [
      "../data/MNIST_bgimage/train_bgimage.pt saved to disk\n"
     ]
    }
   ],
   "source": [
    "# save additional tensors \n",
    "filename = os.path.join(path_data, f'{dataset_type}_bgimage.pt')\n",
    "torch.save((add_images_tensorized, add_labels_tensorized), filename)\n",
    "print(f'{filename} saved to disk')"
   ]
  },
  {
   "cell_type": "code",
   "execution_count": 97,
   "metadata": {},
   "outputs": [
    {
     "name": "stdout",
     "output_type": "stream",
     "text": [
      "../data/MNIST_bgimage/test_original_and_bgimage.pt saved to disk\n"
     ]
    }
   ],
   "source": [
    "## add to original + additional concat dataset\n",
    "filename = os.path.join(path_data, f'{dataset_type}_original_and_bgimage.pt')\n",
    "torch.save((concat_images, concat_labels), filename)\n",
    "print(f'{filename} saved to disk')"
   ]
  },
  {
   "cell_type": "markdown",
   "metadata": {},
   "source": [
    "# mnist with random background\n",
    "download dataset from here: https://sites.google.com/a/lisa.iro.umontreal.ca/public_static_twiki/variations-on-the-mnist-digits\n"
   ]
  },
  {
   "cell_type": "code",
   "execution_count": 103,
   "metadata": {},
   "outputs": [
    {
     "name": "stdout",
     "output_type": "stream",
     "text": [
      "torch.Size([10000, 1, 28, 28])\n",
      "torch.Size([10000, 10])\n"
     ]
    }
   ],
   "source": [
    "# get original dataset\n",
    "path_data = '../data/MNIST_bgrandom/'\n",
    "dataset_type = 'test'\n",
    "\n",
    "def get_tensorized_dataset(im_set):\n",
    "    images = []\n",
    "    labels = []\n",
    "    for img, label in im_set:\n",
    "        img = np.array(img)\n",
    "        images.append(img)    \n",
    "        labels.append(label)\n",
    "        \n",
    "    # convert to tensor and one-hot vector\n",
    "    transform_tohot = T.Lambda(lambda y: torch.zeros(10, dtype=torch.float).scatter_(0, torch.tensor(y), value=1))\n",
    "    images_tensorized = torch.stack([T.ToTensor()(im) for im in images])\n",
    "    labels_tensorized = torch.stack([transform_tohot(label) for label in labels])\n",
    "    \n",
    "    return images_tensorized, labels_tensorized\n",
    "\n",
    "if dataset_type == 'train':\n",
    "    im_set = datasets.MNIST('../data/',train=True, download=False)\n",
    "elif dataset_type == 'test':\n",
    "    im_set = datasets.MNIST('../data/',train=False, download=False)\n",
    "\n",
    "orig_images_tensorized, orig_labels_tensorized = get_tensorized_dataset(im_set)\n",
    "print(orig_images_tensorized.size())\n",
    "print(orig_labels_tensorized.size())"
   ]
  },
  {
   "cell_type": "code",
   "execution_count": 104,
   "metadata": {},
   "outputs": [
    {
     "name": "stdout",
     "output_type": "stream",
     "text": [
      "torch.Size([50000, 1, 28, 28])\n",
      "torch.Size([50000, 10])\n"
     ]
    }
   ],
   "source": [
    "def get_tensorized_dataset(im_set):\n",
    "    \n",
    "    images = []\n",
    "    labels = []\n",
    "    for img, label in im_set:\n",
    "        img = np.array(img)\n",
    "        img = img.reshape([28,28]).T\n",
    "        images.append(img)\n",
    "        labels.append(int(label[0]))\n",
    "        \n",
    "    # convert to tensor and one-hot vector\n",
    "    transform_tohot = T.Lambda(lambda y: torch.zeros(10, dtype=torch.float).scatter_(0, torch.tensor(y), value=1))\n",
    "    images_tensorized = torch.stack([T.ToTensor()(im) for im in images])\n",
    "    labels_tensorized = torch.stack([transform_tohot(label) for label in labels])\n",
    "    \n",
    "    return images_tensorized, labels_tensorized\n",
    "\n",
    "def plot(imgs, num_rows = 1, with_orig=False, row_title=None, **imshow_kwargs):\n",
    "#     if not isinstance(imgs, list):\n",
    "#         raise ValueError('input images should be list form')\n",
    "\n",
    "    num_cols = int(len(imgs)/num_rows) + (len(imgs)%num_rows > 0)\n",
    "    fig, axs = plt.subplots(nrows=num_rows, ncols=num_cols, squeeze=False)\n",
    "#     import pdb; pdb.set_trace()\n",
    "    for row_idx in range(num_rows):\n",
    "        for col_idx, img in enumerate(imgs[row_idx*num_cols:(row_idx+1)*num_cols]):\n",
    "            ax = axs[row_idx, col_idx]\n",
    "            ax.imshow(np.asarray(img), cmap='gray', vmin=0, vmax=1,  **imshow_kwargs)\n",
    "            ax.set(xticklabels=[], yticklabels=[], xticks=[], yticks=[])\n",
    "\n",
    "#     if with_orig:\n",
    "#         axs[0, 0].set(title='Original image')\n",
    "#         axs[0, 0].title.set_size(8)\n",
    "    if row_title is not None:\n",
    "        for row_idx in range(num_rows):\n",
    "            axs[row_idx, 0].set(ylabel=row_title[row_idx])\n",
    "    plt.show()\n",
    "#     plt.tight_layout()\n",
    "\n",
    "\n",
    "# load data and tensorize\n",
    "\n",
    "\n",
    "data = np.loadtxt(path_data+f'mnist_background_random_{dataset_type}.amat')\n",
    "add_im_set = zip(data[:, :-1], data[:, -1:])\n",
    "\n",
    "add_images_tensorized, add_labels_tensorized = get_tensorized_dataset(add_im_set)\n",
    "add_images_tensorized = add_images_tensorized.type(torch.float32)\n",
    "add_labels_tensorized = add_labels_tensorized.type(torch.float32)\n",
    "\n",
    "print(add_images_tensorized.size())\n",
    "print(add_labels_tensorized.size())\n",
    "\n",
    "# torch.Size([12000, 1, 28, 28])\n",
    "# torch.Size([12000, 10])"
   ]
  },
  {
   "cell_type": "code",
   "execution_count": 105,
   "metadata": {},
   "outputs": [
    {
     "name": "stdout",
     "output_type": "stream",
     "text": [
      "torch.Size([60000, 1, 28, 28])\n",
      "torch.Size([60000, 10])\n"
     ]
    }
   ],
   "source": [
    "# concat\n",
    "concat_images = torch.cat([orig_images_tensorized, add_images_tensorized], dim=0)\n",
    "concat_labels = torch.cat([orig_labels_tensorized, add_labels_tensorized], dim=0)\n",
    "\n",
    "# shuffle\n",
    "shuffled_ids= torch.randperm(concat_images.shape[0])\n",
    "concat_images = concat_images[shuffled_ids]\n",
    "concat_labels = concat_labels[shuffled_ids]\n",
    "\n",
    "print(concat_images.size())\n",
    "print(concat_labels.size())"
   ]
  },
  {
   "cell_type": "code",
   "execution_count": 110,
   "metadata": {},
   "outputs": [
    {
     "data": {
      "image/png": "[encoded data removed]",
      "text/plain": [
       "<Figure size 1440x216 with 10 Axes>"
      ]
     },
     "metadata": {},
     "output_type": "display_data"
    },
    {
     "name": "stdout",
     "output_type": "stream",
     "text": [
      "[tensor(4), tensor(7), tensor(3), tensor(9), tensor(8), tensor(8), tensor(4), tensor(7), tensor(1), tensor(2)]\n"
     ]
    },
    {
     "data": {
      "image/png": "[encoded data removed]",
      "text/plain": [
       "<Figure size 1440x216 with 10 Axes>"
      ]
     },
     "metadata": {},
     "output_type": "display_data"
    },
    {
     "name": "stdout",
     "output_type": "stream",
     "text": [
      "[tensor(1), tensor(3), tensor(0), tensor(8), tensor(7), tensor(0), tensor(4), tensor(7), tensor(9), tensor(2)]\n"
     ]
    },
    {
     "data": {
      "image/png": "[encoded data removed]",
      "text/plain": [
       "<Figure size 1440x216 with 10 Axes>"
      ]
     },
     "metadata": {},
     "output_type": "display_data"
    },
    {
     "name": "stdout",
     "output_type": "stream",
     "text": [
      "[tensor(2), tensor(2), tensor(4), tensor(6), tensor(6), tensor(0), tensor(0), tensor(5), tensor(3), tensor(4)]\n"
     ]
    }
   ],
   "source": [
    "# visualize\n",
    "plt.rcParams[\"figure.figsize\"] = (20,3)\n",
    "i =91#152\n",
    "plottedimgs = [torch.movedim(orig_images_tensorized[i], 0 ,-1) for i in range(10*i,10*(i+1))]\n",
    "plot(plottedimgs, num_rows=1)\n",
    "print([l.argmax() for l in orig_labels_tensorized[10*i:10*(i+1)]])\n",
    "\n",
    "plottedimgs = [torch.movedim(add_images_tensorized[i], 0 ,-1) for i in range(10*i,10*(i+1))]\n",
    "plot(plottedimgs, num_rows=1)\n",
    "print([l.argmax() for l in add_labels_tensorized[10*i:10*(i+1)]])\n",
    "\n",
    "plottedimgs = [torch.movedim(concat_images[i], 0 ,-1) for i in range(10*i,10*(i+1))]\n",
    "plot(plottedimgs, num_rows=1)\n",
    "print([l.argmax() for l in concat_labels[10*i:10*(i+1)]])"
   ]
  },
  {
   "cell_type": "code",
   "execution_count": 74,
   "metadata": {},
   "outputs": [
    {
     "name": "stdout",
     "output_type": "stream",
     "text": [
      "../data/MNIST_bgimage/train_bgimage.pt saved to disk\n"
     ]
    }
   ],
   "source": [
    "# save additional tensors \n",
    "filename = os.path.join(path_data, f'{dataset_type}_bgrandom.pt')\n",
    "torch.save((add_images_tensorized, add_labels_tensorized), filename)\n",
    "print(f'{filename} saved to disk')"
   ]
  },
  {
   "cell_type": "code",
   "execution_count": 107,
   "metadata": {},
   "outputs": [
    {
     "name": "stdout",
     "output_type": "stream",
     "text": [
      "../data/MNIST_bgrandom/test_original_and_bgimage.pt saved to disk\n"
     ]
    }
   ],
   "source": [
    "## add to original + additional concat dataset\n",
    "filename = os.path.join(path_data, f'{dataset_type}_original_and_bgrandom.pt')\n",
    "torch.save((concat_images, concat_labels), filename)\n",
    "print(f'{filename} saved to disk')"
   ]
  },
  {
   "cell_type": "markdown",
   "metadata": {},
   "source": [
    "# mnist for reconstruction (blur version)\n",
    "original mnist training dataset: 60k, 10k for testing"
   ]
  },
  {
   "cell_type": "code",
   "execution_count": 53,
   "metadata": {},
   "outputs": [
    {
     "name": "stdout",
     "output_type": "stream",
     "text": [
      "torch.Size([10000, 1, 28, 28])\n",
      "torch.Size([10000, 10])\n"
     ]
    }
   ],
   "source": [
    "def get_tensorized_dataset(im_set):\n",
    "    images = []\n",
    "    labels = []\n",
    "    for img, label in im_set:\n",
    "        img = np.array(img)\n",
    "        images.append(img)    \n",
    "        labels.append(label)\n",
    "        \n",
    "    # convert to tensor and one-hot vector\n",
    "    transform_tohot = T.Lambda(lambda y: torch.zeros(10, dtype=torch.float).scatter_(0, torch.tensor(y), value=1))\n",
    "    images_tensorized = torch.stack([T.ToTensor()(im) for im in images])\n",
    "    labels_tensorized = torch.stack([transform_tohot(label) for label in labels])\n",
    "    \n",
    "    return images_tensorized, labels_tensorized\n",
    "\n",
    "def plot(imgs, num_rows = 1, with_orig=False, row_title=None, **imshow_kwargs):\n",
    "#     if not isinstance(imgs, list):\n",
    "#         raise ValueError('input images should be list form')\n",
    "\n",
    "    num_cols = int(len(imgs)/num_rows) + (len(imgs)%num_rows > 0)\n",
    "    fig, axs = plt.subplots(nrows=num_rows, ncols=num_cols, squeeze=False)\n",
    "#     import pdb; pdb.set_trace()\n",
    "    for row_idx in range(num_rows):\n",
    "        for col_idx, img in enumerate(imgs[row_idx*num_cols:(row_idx+1)*num_cols]):\n",
    "            ax = axs[row_idx, col_idx]\n",
    "            ax.imshow(np.asarray(img), cmap='gray_r', vmin=0, vmax=1,  **imshow_kwargs)\n",
    "            ax.set(xticklabels=[], yticklabels=[], xticks=[], yticks=[])\n",
    "\n",
    "#     if with_orig:\n",
    "#         axs[0, 0].set(title='Original image')\n",
    "#         axs[0, 0].title.set_size(8)\n",
    "    if row_title is not None:\n",
    "        for row_idx in range(num_rows):\n",
    "            axs[row_idx, 0].set(ylabel=row_title[row_idx])\n",
    "    plt.show()\n",
    "#     plt.tight_layout()\n",
    "\n",
    "# load original mnist\n",
    "path_save = '../data/MNIST_recon'\n",
    "dataset_type = 'test'\n",
    "\n",
    "\n",
    "if dataset_type == 'train':\n",
    "    im_set = datasets.MNIST('../data/',train=True, download=False)\n",
    "elif dataset_type == 'test':\n",
    "    im_set = datasets.MNIST('../data/',train=False, download=False)\n",
    "\n",
    "orig_images_tensorized, orig_labels_tensorized = get_tensorized_dataset(im_set)\n",
    "print(orig_images_tensorized.size())\n",
    "print(orig_labels_tensorized.size())"
   ]
  },
  {
   "cell_type": "code",
   "execution_count": 3,
   "metadata": {},
   "outputs": [
    {
     "name": "stdout",
     "output_type": "stream",
     "text": [
      "torch.Size([60000, 1, 28, 28])\n",
      "torch.Size([60000, 1, 28, 28])\n"
     ]
    }
   ],
   "source": [
    "# blurred version\n",
    "kernelsize = 5\n",
    "sigma =5.0\n",
    "transforms = T.Compose([ T.GaussianBlur(kernelsize, sigma=sigma), T.ToTensor()])\n",
    "\n",
    "if dataset_type == 'train':\n",
    "    im_set = datasets.MNIST('../data/',train=True, download=False, transform=transforms,\n",
    "                        target_transform=T.Lambda(lambda y: torch.zeros(10, dtype=torch.float).scatter_(0, torch.tensor(y), value=1)))\n",
    "elif dataset_type == 'test':\n",
    "    im_set = datasets.MNIST('../data/',train=False, download=False, transform=transforms,\n",
    "                        target_transform=T.Lambda(lambda y: torch.zeros(10, dtype=torch.float).scatter_(0, torch.tensor(y), value=1)))\n",
    "\n",
    "    \n",
    "images = []\n",
    "# labels = []\n",
    "for img, label in im_set:\n",
    "    images.append(img)    \n",
    "#     labels.append(label)\n",
    "        \n",
    "blur_images_tensorized = torch.stack([im for im in images])\n",
    "# blur_labels_tensorized = torch.stack([label for label in labels])\n",
    "print(blur_images_tensorized.size())\n",
    "\n",
    "bool_images_tensorized = (blur_images_tensorized >0.1).type(torch.float32)\n",
    "# blur_labels_tensorized = torch.stack([label for label in labels])\n",
    "print(bool_images_tensorized.size())"
   ]
  },
  {
   "cell_type": "code",
   "execution_count": 4,
   "metadata": {},
   "outputs": [
    {
     "data": {
      "image/png": "[encoded data removed]",
      "text/plain": [
       "<Figure size 1440x216 with 10 Axes>"
      ]
     },
     "metadata": {},
     "output_type": "display_data"
    },
    {
     "data": {
      "image/png": "[encoded data removed]",
      "text/plain": [
       "<Figure size 1440x216 with 10 Axes>"
      ]
     },
     "metadata": {},
     "output_type": "display_data"
    },
    {
     "data": {
      "image/png": "[encoded data removed]",
      "text/plain": [
       "<Figure size 1440x216 with 10 Axes>"
      ]
     },
     "metadata": {},
     "output_type": "display_data"
    },
    {
     "name": "stdout",
     "output_type": "stream",
     "text": [
      "[tensor(9), tensor(6), tensor(9), tensor(0), tensor(7), tensor(1), tensor(4), tensor(2), tensor(7), tensor(3)]\n"
     ]
    }
   ],
   "source": [
    "# visualize erased images\n",
    "plt.rcParams[\"figure.figsize\"] = (20,3)\n",
    "i =90#152\n",
    "plottedimgs = [torch.movedim(blur_images_tensorized[i], 0 ,-1) for i in range(10*i,10*(i+1))]\n",
    "plot(plottedimgs, num_rows=1)\n",
    "plottedimgs = [torch.movedim(bool_images_tensorized[i], 0 ,-1) for i in range(10*i,10*(i+1))]\n",
    "plot(plottedimgs, num_rows=1)\n",
    "plottedimgs = [torch.movedim(orig_images_tensorized[i], 0 ,-1) for i in range(10*i,10*(i+1))]\n",
    "plot(plottedimgs, num_rows=1)\n",
    "print([l.argmax() for l in orig_labels_tensorized[10*i:10*(i+1)]])"
   ]
  },
  {
   "cell_type": "code",
   "execution_count": 5,
   "metadata": {},
   "outputs": [
    {
     "name": "stdout",
     "output_type": "stream",
     "text": [
      "../data/MNIST_recon/train_blur_k5s5.pt saved to disk\n",
      "../data/MNIST_recon/train_blur_k5s5_bool.pt saved to disk\n"
     ]
    }
   ],
   "source": [
    "# save tensors \n",
    "filename = os.path.join(path_save, f'{dataset_type}_blur_k{kernelsize}s{int(sigma)}.pt')\n",
    "torch.save((orig_images_tensorized, blur_images_tensorized, orig_labels_tensorized), filename)\n",
    "print(f'{filename} saved to disk')\n",
    "\n",
    "filename = os.path.join(path_save, f'{dataset_type}_blur_k{kernelsize}s{int(sigma)}_bool.pt')\n",
    "torch.save((orig_images_tensorized, bool_images_tensorized, orig_labels_tensorized), filename)\n",
    "print(f'{filename} saved to disk')"
   ]
  },
  {
   "cell_type": "markdown",
   "metadata": {},
   "source": [
    "# mnist for reconstruction (background version)"
   ]
  },
  {
   "cell_type": "code",
   "execution_count": 205,
   "metadata": {},
   "outputs": [
    {
     "data": {
      "image/png": "[encoded data removed]",
      "text/plain": [
       "<Figure size 1080x5760 with 3 Axes>"
      ]
     },
     "metadata": {
      "needs_background": "light"
     },
     "output_type": "display_data"
    }
   ],
   "source": [
    "# partly erased stimuli demonstration\n",
    "from scipy import ndimage\n",
    "import random\n",
    "# np.random.seed(1)\n",
    "fig = plt.figure(figsize=(15, 80))\n",
    "\n",
    "im_set = datasets.MNIST('../data/',train=False, download=False)\n",
    "\n",
    "# image\n",
    "i = 88\n",
    "im = np.array(im_set[i][0])\n",
    "fig.add_subplot(1, 3, 1)\n",
    "plt.imshow(im, cmap='gray')\n",
    "\n",
    "\n",
    "## blots\n",
    "nblots = 5\n",
    "sigma = 3\n",
    "blots = np.zeros(im.shape)\n",
    "points = im.shape[0]*np.random.random((2, nblots))\n",
    "blots[(points[0]).astype(np.int64), (points[1]).astype(np.int64)] = 1\n",
    "blots = ndimage.gaussian_filter(blots, sigma=sigma)\n",
    "blotmask = (blots > blots.mean()).astype(np.int64)\n",
    "blotbg = np.random.randint(0,255)*blotmask\n",
    "\n",
    "# blotted\n",
    "bim = im.copy().astype(np.int64)\n",
    "imwbg =np.clip(bim+blotbg, a_max=255, a_min=0)\n",
    "imwbg = imwbg.astype(np.uint8)\n",
    "\n",
    "blotbg = blotbg.astype(np.uint8)\n",
    "fig.add_subplot(1, 3, 2)\n",
    "plt.imshow(blotbg, cmap='gray')\n",
    "\n",
    "\n",
    "fig.add_subplot(1, 3, 3)\n",
    "plt.imshow(imwbg, cmap='gray')\n",
    "plt.show()"
   ]
  },
  {
   "cell_type": "code",
   "execution_count": 211,
   "metadata": {},
   "outputs": [],
   "source": [
    "def get_blot_dataset(im_set, nblots=5):\n",
    "    intact_images = []\n",
    "    blotted_images = []\n",
    "    labels = []\n",
    "    for img, label in im_set:\n",
    "        img = np.array(img)\n",
    "        intact_images.append(img)    \n",
    "        blotted = blot_image(img.copy(), nblots)\n",
    "        blotted_images.append(blotted)\n",
    "        labels.append(label)\n",
    "        \n",
    "    # convert to tensor and one-hot vector\n",
    "    transform_tohot = T.Lambda(lambda y: torch.zeros(10, dtype=torch.float).scatter_(0, torch.tensor(y), value=1))\n",
    "    intact_images_tensorized = torch.stack([T.ToTensor()(im) for im in intact_images])\n",
    "    blotted_images_tensorized = torch.stack([T.ToTensor()(im) for im in blotted_images])\n",
    "    labels_tensorized = torch.stack([transform_tohot(label) for label in labels])\n",
    "    \n",
    "    return intact_images_tensorized, blotted_images_tensorized, labels_tensorized\n",
    "\n",
    "def get_tensorized_dataset(im_set):\n",
    "    images = []\n",
    "    labels = []\n",
    "    for img, label in im_set:\n",
    "        img = np.array(img)\n",
    "        images.append(img)    \n",
    "        labels.append(label)\n",
    "        \n",
    "    # convert to tensor and one-hot vector\n",
    "    transform_tohot = T.Lambda(lambda y: torch.zeros(10, dtype=torch.float).scatter_(0, torch.tensor(y), value=1))\n",
    "    images_tensorized = torch.stack([T.ToTensor()(im) for im in images])\n",
    "    labels_tensorized = torch.stack([transform_tohot(label) for label in labels])\n",
    "    \n",
    "    return images_tensorized, labels_tensorized\n",
    "\n",
    "def blot_image(img, nblots=5, sigma=3, maskvalue=0):\n",
    "    from scipy import ndimage\n",
    "    # create blots\n",
    "    img =img.astype(np.int64)\n",
    "    blots = np.zeros(img.shape)\n",
    "    points = img.shape[0]*np.random.random((2, nblots))\n",
    "    blots[(points[0]).astype(np.int64), (points[1]).astype(np.int64)] = 1\n",
    "    blots = ndimage.gaussian_filter(blots, sigma=sigma)\n",
    "    blotmask = (blots > blots.mean()).astype(np.int64)\n",
    "    blotbg = np.random.randint(0,255)*blotmask\n",
    "\n",
    "    # put blot to original image \n",
    "    new_img =np.clip(img+blotbg, a_max=255, a_min=0)\n",
    "    return new_img.astype(np.uint8)\n",
    "\n",
    "def plot(imgs, num_rows = 1, with_orig=False, row_title=None, **imshow_kwargs):\n",
    "#     if not isinstance(imgs, list):\n",
    "#         raise ValueError('input images should be list form')\n",
    "\n",
    "    num_cols = int(len(imgs)/num_rows) + (len(imgs)%num_rows > 0)\n",
    "    fig, axs = plt.subplots(nrows=num_rows, ncols=num_cols, squeeze=False)\n",
    "#     import pdb; pdb.set_trace()\n",
    "    for row_idx in range(num_rows):\n",
    "        for col_idx, img in enumerate(imgs[row_idx*num_cols:(row_idx+1)*num_cols]):\n",
    "            ax = axs[row_idx, col_idx]\n",
    "            ax.imshow(np.asarray(img), cmap='gray', vmin=0, vmax=1,  **imshow_kwargs)\n",
    "            ax.set(xticklabels=[], yticklabels=[], xticks=[], yticks=[])\n",
    "\n",
    "#     if with_orig:\n",
    "#         axs[0, 0].set(title='Original image')\n",
    "#         axs[0, 0].title.set_size(8)\n",
    "    if row_title is not None:\n",
    "        for row_idx in range(num_rows):\n",
    "            axs[row_idx, 0].set(ylabel=row_title[row_idx])\n",
    "    plt.show()\n",
    "#     plt.tight_layout()"
   ]
  },
  {
   "cell_type": "code",
   "execution_count": 222,
   "metadata": {},
   "outputs": [
    {
     "name": "stdout",
     "output_type": "stream",
     "text": [
      "torch.Size([10000, 1, 28, 28])\n",
      "torch.Size([10000, 10])\n"
     ]
    }
   ],
   "source": [
    "# load original mnist\n",
    "path_save = '../data/MNIST_recon'\n",
    "dataset_type = 'test'\n",
    "if dataset_type == 'train':\n",
    "    im_set = datasets.MNIST('../data/',train=True, download=False)\n",
    "elif dataset_type == 'test':\n",
    "    im_set = datasets.MNIST('../data/',train=False, download=False)\n",
    "\n",
    "orig_images_tensorized, orig_labels_tensorized = get_tensorized_dataset(im_set)\n",
    "print(orig_images_tensorized.size())\n",
    "print(orig_labels_tensorized.size())"
   ]
  },
  {
   "cell_type": "markdown",
   "metadata": {},
   "source": [
    "# create mnist with blot background"
   ]
  },
  {
   "cell_type": "code",
   "execution_count": 223,
   "metadata": {},
   "outputs": [
    {
     "name": "stdout",
     "output_type": "stream",
     "text": [
      "torch.Size([10000, 1, 28, 28])\n",
      "torch.Size([10000, 1, 28, 28])\n",
      "torch.Size([10000, 10])\n"
     ]
    }
   ],
   "source": [
    "# convert original mnist to randomly erased mnist\n",
    "random.seed(10)\n",
    "increase_datasize_by=1\n",
    "\n",
    "intact_images, blotted_images, labels = [], [], []\n",
    "for i in range(increase_datasize_by):\n",
    "    intact, blotted, lab = get_blot_dataset(im_set, nblots=5)\n",
    "    intact_images.append(intact)\n",
    "    blotted_images.append(blotted)\n",
    "    labels.append(lab)\n",
    "    \n",
    "intact_images_tensorized = torch.cat(intact_images)\n",
    "blotted_images_tensorized = torch.cat(blotted_images)\n",
    "labels_tensorized = torch.cat(labels)\n",
    "\n",
    "print(intact_images_tensorized.size())\n",
    "print(blotted_images_tensorized.size())\n",
    "print(labels_tensorized.size())"
   ]
  },
  {
   "cell_type": "code",
   "execution_count": 224,
   "metadata": {},
   "outputs": [
    {
     "data": {
      "image/png": "[encoded data removed]",
      "text/plain": [
       "<Figure size 1440x216 with 10 Axes>"
      ]
     },
     "metadata": {},
     "output_type": "display_data"
    },
    {
     "data": {
      "image/png": "[encoded data removed]",
      "text/plain": [
       "<Figure size 1440x216 with 10 Axes>"
      ]
     },
     "metadata": {},
     "output_type": "display_data"
    },
    {
     "name": "stdout",
     "output_type": "stream",
     "text": [
      "[tensor(7), tensor(2), tensor(1), tensor(0), tensor(4), tensor(1), tensor(4), tensor(9), tensor(5), tensor(9)]\n"
     ]
    }
   ],
   "source": [
    "# visualize erased images\n",
    "import matplotlib.pyplot as plt\n",
    "plt.rcParams[\"figure.figsize\"] = (20,3)\n",
    "plottedimgs = [torch.movedim(intact_images_tensorized[i], 0 ,-1) for i in range(10)]\n",
    "plot(plottedimgs, num_rows=1)\n",
    "plottedimgs = [torch.movedim(blotted_images_tensorized[i], 0 ,-1) for i in range(10)]\n",
    "plot(plottedimgs, num_rows=1)\n",
    "print([l.argmax() for l in labels_tensorized[:10]])"
   ]
  },
  {
   "cell_type": "code",
   "execution_count": 225,
   "metadata": {},
   "outputs": [
    {
     "name": "stdout",
     "output_type": "stream",
     "text": [
      "../data/MNIST_recon/test_recon_only_x1_blot5bg.pt saved to disk\n"
     ]
    }
   ],
   "source": [
    "# save tensors recon-all\n",
    "comment = 'blot5bg'\n",
    "filename = os.path.join(path_save, f'{dataset_type}_recon_only_x{increase_datasize_by}_{comment}.pt')\n",
    "torch.save((blotted_images_tensorized, intact_images_tensorized, labels_tensorized), filename)\n",
    "print(f'{filename} saved to disk')"
   ]
  },
  {
   "cell_type": "markdown",
   "metadata": {},
   "source": [
    "# concat erased images to original mnist "
   ]
  },
  {
   "cell_type": "code",
   "execution_count": 226,
   "metadata": {},
   "outputs": [
    {
     "name": "stdout",
     "output_type": "stream",
     "text": [
      "torch.Size([20000, 1, 28, 28])\n",
      "torch.Size([20000, 1, 28, 28])\n",
      "torch.Size([20000, 10])\n"
     ]
    }
   ],
   "source": [
    "#concate intact + erased\n",
    "combine_intact_blotted_images = torch.cat([orig_images_tensorized, blotted_images_tensorized]) # torch.Size([120000, 28, 28])\n",
    "combine_intact_images = torch.cat([orig_images_tensorized, intact_images_tensorized])\n",
    "combine_labels_tensorized = torch.cat([orig_labels_tensorized, labels_tensorized]) #\n",
    "\n",
    "# shuffle the order\n",
    "torch.manual_seed(10)\n",
    "shuffled_indices = torch.randperm(combine_intact_blotted_images.shape[0])\n",
    "combine_intact_blotted_images = combine_intact_blotted_images[shuffled_indices]\n",
    "combine_intact_images = combine_intact_images[shuffled_indices]\n",
    "combine_labels_tensorized = combine_labels_tensorized[shuffled_indices]\n",
    "\n",
    "print(combine_intact_blotted_images .size())\n",
    "print(combine_intact_images.size())\n",
    "print(combine_labels_tensorized.size())"
   ]
  },
  {
   "cell_type": "code",
   "execution_count": 227,
   "metadata": {},
   "outputs": [
    {
     "data": {
      "image/png": "[encoded data removed]",
      "text/plain": [
       "<Figure size 1440x216 with 10 Axes>"
      ]
     },
     "metadata": {},
     "output_type": "display_data"
    },
    {
     "data": {
      "image/png": "[encoded data removed]",
      "text/plain": [
       "<Figure size 1440x216 with 10 Axes>"
      ]
     },
     "metadata": {},
     "output_type": "display_data"
    },
    {
     "name": "stdout",
     "output_type": "stream",
     "text": [
      "[tensor(0), tensor(8), tensor(0), tensor(1), tensor(7), tensor(7), tensor(0), tensor(1), tensor(8), tensor(0)]\n"
     ]
    }
   ],
   "source": [
    "# visualize erased images\n",
    "import matplotlib.pyplot as plt\n",
    "plt.rcParams[\"figure.figsize\"] = (20,3)\n",
    "plottedimgs = [torch.movedim(combine_intact_blotted_images[i], 0 ,-1) for i in range(10,20)]\n",
    "plot(plottedimgs, num_rows=1)\n",
    "plottedimgs = [torch.movedim(combine_intact_images[i], 0 ,-1) for i in range(10,20)]\n",
    "plot(plottedimgs, num_rows=1)\n",
    "print([l.argmax() for l in combine_labels_tensorized[:10]])"
   ]
  },
  {
   "cell_type": "code",
   "execution_count": 228,
   "metadata": {},
   "outputs": [
    {
     "name": "stdout",
     "output_type": "stream",
     "text": [
      "../data/MNIST_recon/test_recon_combine_x1_blot5bg.pt saved to disk\n"
     ]
    }
   ],
   "source": [
    "# tensor save recon-half\n",
    "comment = 'blot5bg'\n",
    "filename = os.path.join(path_save, f'{dataset_type}_recon_combine_x{increase_datasize_by}_{comment}.pt')\n",
    "torch.save((combine_intact_blotted_images, combine_intact_images, combine_labels_tensorized), filename)\n",
    "print(f'{filename} saved to disk')"
   ]
  },
  {
   "cell_type": "code",
   "execution_count": null,
   "metadata": {},
   "outputs": [],
   "source": []
  },
  {
   "cell_type": "markdown",
   "metadata": {},
   "source": [
    "# mnist for reconstruction (erased version)\n",
    "original mnist training dataset: 60k\n",
    "* recon-only (x*60k erased)\n",
    "* recon-balance (x*30k intact + x*30k erased)\n",
    "* recon-unbalanced (original 60k intact + x*60k erased)"
   ]
  },
  {
   "cell_type": "code",
   "execution_count": 7,
   "metadata": {},
   "outputs": [
    {
     "data": {
      "image/png": "[encoded data removed]",
      "text/plain": [
       "<Figure size 1080x5760 with 3 Axes>"
      ]
     },
     "metadata": {
      "needs_background": "light"
     },
     "output_type": "display_data"
    }
   ],
   "source": [
    "# partly erased stimuli demonstration\n",
    "from scipy import ndimage\n",
    "# np.random.seed(1)\n",
    "fig = plt.figure(figsize=(15, 80))\n",
    "\n",
    "im_set = datasets.MNIST('../data/',train=False, download=False)\n",
    "\n",
    "# image\n",
    "i = 88\n",
    "im = np.array(im_set[i][0])\n",
    "fig.add_subplot(1, 3, 1)\n",
    "plt.imshow(im, cmap='gray_r')\n",
    "\n",
    "## blots\n",
    "nblots = 3\n",
    "sigma = 3\n",
    "blots = np.zeros(im.shape)\n",
    "points = im.shape[0]*np.random.random((2, nblots))\n",
    "blots[(points[0]).astype(np.int), (points[1]).astype(np.int)] = 1\n",
    "blots = ndimage.gaussian_filter(blots, sigma=sigma)\n",
    "blotmask = (blots > blots.mean()).astype(np.int)\n",
    "fig.add_subplot(1, 3, 2)\n",
    "plt.imshow(blotmask, cmap='gray_r')\n",
    "\n",
    "# blotted\n",
    "# bim = im.copy()\n",
    "maskvalue = 0\n",
    "np.putmask(im, blotmask, maskvalue)\n",
    "fig.add_subplot(1, 3, 3)\n",
    "plt.imshow(im, cmap='gray_r')\n",
    "plt.show()"
   ]
  },
  {
   "cell_type": "code",
   "execution_count": 53,
   "metadata": {},
   "outputs": [],
   "source": [
    "def get_randomly_erased_dataset(im_set, nblots=3):\n",
    "    intact_images = []\n",
    "    erased_images = []\n",
    "    labels = []\n",
    "    for img, label in im_set:\n",
    "        img = np.array(img)\n",
    "        intact_images.append(img)    \n",
    "        erased = erase_image(img.copy(), nblots)\n",
    "        erased_images.append(erased)\n",
    "        labels.append(label)\n",
    "        \n",
    "    # convert to tensor and one-hot vector\n",
    "    transform_tohot = T.Lambda(lambda y: torch.zeros(10, dtype=torch.float).scatter_(0, torch.tensor(y), value=1))\n",
    "    intact_images_tensorized = torch.stack([T.ToTensor()(im) for im in intact_images])\n",
    "    erased_images_tensorized = torch.stack([T.ToTensor()(im) for im in erased_images])\n",
    "    labels_tensorized = torch.stack([transform_tohot(label) for label in labels])\n",
    "    \n",
    "    return intact_images_tensorized, erased_images_tensorized, labels_tensorized\n",
    "\n",
    "def get_tensorized_dataset(im_set):\n",
    "    images = []\n",
    "    labels = []\n",
    "    for img, label in im_set:\n",
    "        img = np.array(img)\n",
    "        images.append(img)    \n",
    "        labels.append(label)\n",
    "        \n",
    "    # convert to tensor and one-hot vector\n",
    "    transform_tohot = T.Lambda(lambda y: torch.zeros(10, dtype=torch.float).scatter_(0, torch.tensor(y), value=1))\n",
    "    images_tensorized = torch.stack([T.ToTensor()(im) for im in images])\n",
    "    labels_tensorized = torch.stack([transform_tohot(label) for label in labels])\n",
    "    \n",
    "    return images_tensorized, labels_tensorized\n",
    "\n",
    "def erase_image(img, nblots=3, sigma=3, maskvalue=0):\n",
    "    from scipy import ndimage\n",
    "    # create blots\n",
    "    blots = np.zeros(img.shape)\n",
    "    points = img.shape[0]*np.random.random((2, nblots))\n",
    "    blots[(points[0]).astype(np.int), (points[1]).astype(np.int)] = 1\n",
    "    blots = ndimage.gaussian_filter(blots, sigma=sigma)\n",
    "    blotmask = (blots > blots.mean()).astype(np.int)\n",
    "    \n",
    "    # put blotmask on original image \n",
    "    np.putmask(img, blotmask, maskvalue) # check how this works for 3D, RGB array\n",
    "    \n",
    "    return img\n",
    "\n",
    "def plot(imgs, num_rows = 1, with_orig=False, row_title=None, **imshow_kwargs):\n",
    "#     if not isinstance(imgs, list):\n",
    "#         raise ValueError('input images should be list form')\n",
    "\n",
    "    num_cols = int(len(imgs)/num_rows) + (len(imgs)%num_rows > 0)\n",
    "    fig, axs = plt.subplots(nrows=num_rows, ncols=num_cols, squeeze=False)\n",
    "#     import pdb; pdb.set_trace()\n",
    "    for row_idx in range(num_rows):\n",
    "        for col_idx, img in enumerate(imgs[row_idx*num_cols:(row_idx+1)*num_cols]):\n",
    "            ax = axs[row_idx, col_idx]\n",
    "            ax.imshow(np.asarray(img), cmap='gray_r', vmin=0, vmax=1,  **imshow_kwargs)\n",
    "            ax.set(xticklabels=[], yticklabels=[], xticks=[], yticks=[])\n",
    "\n",
    "#     if with_orig:\n",
    "#         axs[0, 0].set(title='Original image')\n",
    "#         axs[0, 0].title.set_size(8)\n",
    "    if row_title is not None:\n",
    "        for row_idx in range(num_rows):\n",
    "            axs[row_idx, 0].set(ylabel=row_title[row_idx])\n",
    "    plt.show()\n",
    "#     plt.tight_layout()"
   ]
  },
  {
   "cell_type": "code",
   "execution_count": 51,
   "metadata": {},
   "outputs": [
    {
     "name": "stdout",
     "output_type": "stream",
     "text": [
      "torch.Size([60000, 1, 28, 28])\n",
      "torch.Size([60000, 10])\n"
     ]
    }
   ],
   "source": [
    "# load original mnist\n",
    "path_save = '../data/MNIST_recon'\n",
    "dataset_type = 'train'\n",
    "if dataset_type == 'train':\n",
    "    im_set = datasets.MNIST('../data/',train=True, download=False)\n",
    "elif dataset_type == 'test':\n",
    "    im_set = datasets.MNIST('../data/',train=False, download=False)\n",
    "\n",
    "orig_images_tensorized, orig_labels_tensorized = get_tensorized_dataset(im_set)\n",
    "print(orig_images_tensorized.size())\n",
    "print(orig_labels_tensorized.size())"
   ]
  },
  {
   "cell_type": "markdown",
   "metadata": {},
   "source": [
    "# create erased mnist"
   ]
  },
  {
   "cell_type": "code",
   "execution_count": 54,
   "metadata": {},
   "outputs": [
    {
     "name": "stdout",
     "output_type": "stream",
     "text": [
      "torch.Size([180000, 1, 28, 28])\n",
      "torch.Size([180000, 1, 28, 28])\n",
      "torch.Size([180000, 10])\n"
     ]
    }
   ],
   "source": [
    "# convert original mnist to randomly erased mnist\n",
    "random.seed(10)\n",
    "increase_datasize_by=3\n",
    "\n",
    "intact_images, erased_images, labels = [], [], []\n",
    "for i in range(increase_datasize_by):\n",
    "    intact, erased, lab = get_randomly_erased_dataset(im_set, nblots=2*i+1)\n",
    "    intact_images.append(intact)\n",
    "    erased_images.append(erased)\n",
    "    labels.append(lab)\n",
    "    \n",
    "intact_images_tensorized = torch.cat(intact_images)\n",
    "erased_images_tensorized = torch.cat(erased_images)\n",
    "labels_tensorized = torch.cat(labels)\n",
    "\n",
    "print(intact_images_tensorized.size())\n",
    "print(erased_images_tensorized.size())\n",
    "print(labels_tensorized.size())"
   ]
  },
  {
   "cell_type": "code",
   "execution_count": 55,
   "metadata": {},
   "outputs": [
    {
     "data": {
      "image/png": "[encoded data removed]",
      "text/plain": [
       "<Figure size 1440x216 with 10 Axes>"
      ]
     },
     "metadata": {},
     "output_type": "display_data"
    },
    {
     "data": {
      "image/png": "[encoded data removed]",
      "text/plain": [
       "<Figure size 1440x216 with 10 Axes>"
      ]
     },
     "metadata": {},
     "output_type": "display_data"
    },
    {
     "name": "stdout",
     "output_type": "stream",
     "text": [
      "[tensor(5), tensor(0), tensor(4), tensor(1), tensor(9), tensor(2), tensor(1), tensor(3), tensor(1), tensor(4)]\n"
     ]
    }
   ],
   "source": [
    "# visualize erased images\n",
    "import matplotlib.pyplot as plt\n",
    "plt.rcParams[\"figure.figsize\"] = (20,3)\n",
    "plottedimgs = [torch.movedim(intact_images_tensorized[i], 0 ,-1) for i in range(10)]\n",
    "plot(plottedimgs, num_rows=1)\n",
    "plottedimgs = [torch.movedim(erased_images_tensorized[i], 0 ,-1) for i in range(10)]\n",
    "plot(plottedimgs, num_rows=1)\n",
    "print([l.argmax() for l in labels_tensorized[:10]])"
   ]
  },
  {
   "cell_type": "code",
   "execution_count": 56,
   "metadata": {},
   "outputs": [
    {
     "name": "stdout",
     "output_type": "stream",
     "text": [
      "../data/MNIST_recon/train_recon_only_x3_nblot1to3.pt saved to disk\n"
     ]
    }
   ],
   "source": [
    "# save tensors recon-all\n",
    "comment = '_nblot1to3'\n",
    "filename = os.path.join(path_save, f'{dataset_type}_recon_only_x{increase_datasize_by}{comment}.pt')\n",
    "torch.save((erased_images_tensorized, intact_images_tensorized, labels_tensorized), filename)\n",
    "print(f'{filename} saved to disk')"
   ]
  },
  {
   "cell_type": "markdown",
   "metadata": {},
   "source": [
    "## make the half & half dataset between intact and erased images"
   ]
  },
  {
   "cell_type": "code",
   "execution_count": 57,
   "metadata": {},
   "outputs": [
    {
     "name": "stdout",
     "output_type": "stream",
     "text": [
      "among 180000 intact images, 90000 were replaced with erased version\n",
      "torch.Size([180000, 1, 28, 28])\n",
      "torch.Size([180000, 1, 28, 28])\n",
      "torch.Size([180000, 10])\n"
     ]
    }
   ],
   "source": [
    "# get half indicies from each dataset\n",
    "random.seed(10)\n",
    "n_images = len(labels_tensorized)\n",
    "all_indices = list(range(0, n_images))\n",
    "erased_indices = random.sample(range(0, n_images), int(n_images/2))\n",
    "erased_indices.sort()\n",
    "intact_indices = list(set(all_indices)-set(erased_indices))\n",
    "print(f'among {n_images} intact images, {int(n_images/2)} were replaced with erased version')\n",
    "    \n",
    "half_intact_images = intact_images_tensorized[intact_indices]\n",
    "half_erased_images = erased_images_tensorized[erased_indices]\n",
    "half_intact_labels = labels_tensorized[intact_indices]\n",
    "half_erased_labels = labels_tensorized[erased_indices]\n",
    "intact_images_for_half_erased = intact_images_tensorized[erased_indices]\n",
    "half_intact_half_erased_images = torch.cat([half_intact_images, half_erased_images])\n",
    "all_intact_images = torch.cat([half_intact_images, intact_images_for_half_erased])\n",
    "half_intact_half_erased_labels  = torch.cat([half_intact_labels, half_erased_labels])\n",
    "\n",
    "# shuffle the order\n",
    "torch.manual_seed(10)\n",
    "shuffled_indices = torch.randperm(half_intact_half_erased_images.shape[0])\n",
    "half_intact_half_erased_images = half_intact_half_erased_images[shuffled_indices]\n",
    "all_intact_images = all_intact_images[shuffled_indices]\n",
    "half_intact_half_erased_labels = half_intact_half_erased_labels[shuffled_indices]\n",
    "\n",
    "print(half_intact_half_erased_images.size())\n",
    "print(all_intact_images.size())\n",
    "print(half_intact_half_erased_labels.size())"
   ]
  },
  {
   "cell_type": "code",
   "execution_count": 58,
   "metadata": {},
   "outputs": [
    {
     "data": {
      "image/png": "[encoded data removed]",
      "text/plain": [
       "<Figure size 1440x216 with 10 Axes>"
      ]
     },
     "metadata": {},
     "output_type": "display_data"
    },
    {
     "data": {
      "image/png": "[encoded data removed]",
      "text/plain": [
       "<Figure size 1440x216 with 10 Axes>"
      ]
     },
     "metadata": {},
     "output_type": "display_data"
    },
    {
     "name": "stdout",
     "output_type": "stream",
     "text": [
      "[tensor(8), tensor(7), tensor(5), tensor(7), tensor(7), tensor(1), tensor(6), tensor(6), tensor(7), tensor(9)]\n"
     ]
    }
   ],
   "source": [
    "# visualize erased images\n",
    "import matplotlib.pyplot as plt\n",
    "plt.rcParams[\"figure.figsize\"] = (20,3)\n",
    "plottedimgs = [torch.movedim(half_intact_half_erased_images[i], 0 ,-1) for i in range(10)]\n",
    "plot(plottedimgs, num_rows=1)\n",
    "plottedimgs = [torch.movedim(all_intact_images[i], 0 ,-1) for i in range(10)]\n",
    "plot(plottedimgs, num_rows=1)\n",
    "print([l.argmax() for l in half_intact_half_erased_labels[:10]])"
   ]
  },
  {
   "cell_type": "code",
   "execution_count": 59,
   "metadata": {},
   "outputs": [
    {
     "name": "stdout",
     "output_type": "stream",
     "text": [
      "../data/MNIST_recon/train_recon_half_x3_nblot1to3.pt saved to disk\n"
     ]
    }
   ],
   "source": [
    "# tensor save recon-half\n",
    "comment = '_nblot1to3'\n",
    "filename = os.path.join(path_save, f'{dataset_type}_recon_half_x{increase_datasize_by}{comment}.pt')\n",
    "torch.save((half_intact_half_erased_images, all_intact_images, half_intact_half_erased_labels), filename)\n",
    "print(f'{filename} saved to disk')"
   ]
  },
  {
   "cell_type": "markdown",
   "metadata": {},
   "source": [
    "# concat erased images to original mnist "
   ]
  },
  {
   "cell_type": "code",
   "execution_count": 60,
   "metadata": {},
   "outputs": [
    {
     "name": "stdout",
     "output_type": "stream",
     "text": [
      "torch.Size([240000, 1, 28, 28])\n",
      "torch.Size([240000, 1, 28, 28])\n",
      "torch.Size([240000, 10])\n"
     ]
    }
   ],
   "source": [
    "#concate intact + erased\n",
    "combine_intact_erased_images = torch.cat([orig_images_tensorized, erased_images_tensorized]) # torch.Size([120000, 28, 28])\n",
    "combine_intact_images = torch.cat([orig_images_tensorized, intact_images_tensorized])\n",
    "combine_labels_tensorized = torch.cat([orig_labels_tensorized, labels_tensorized]) #\n",
    "\n",
    "# shuffle the order\n",
    "torch.manual_seed(10)\n",
    "shuffled_indices = torch.randperm(combine_intact_erased_images.shape[0])\n",
    "combine_intact_erased_images = combine_intact_erased_images[shuffled_indices]\n",
    "combine_intact_images = combine_intact_images[shuffled_indices]\n",
    "combine_labels_tensorized = combine_labels_tensorized[shuffled_indices]\n",
    "\n",
    "print(combine_intact_erased_images .size())\n",
    "print(combine_intact_images.size())\n",
    "print(combine_labels_tensorized.size())"
   ]
  },
  {
   "cell_type": "code",
   "execution_count": 61,
   "metadata": {},
   "outputs": [
    {
     "data": {
      "image/png": "[encoded data removed]",
      "text/plain": [
       "<Figure size 1440x216 with 10 Axes>"
      ]
     },
     "metadata": {},
     "output_type": "display_data"
    },
    {
     "data": {
      "image/png": "[encoded data removed]",
      "text/plain": [
       "<Figure size 1440x216 with 10 Axes>"
      ]
     },
     "metadata": {},
     "output_type": "display_data"
    },
    {
     "name": "stdout",
     "output_type": "stream",
     "text": [
      "[tensor(8), tensor(0), tensor(0), tensor(9), tensor(8), tensor(2), tensor(7), tensor(5), tensor(4), tensor(1)]\n"
     ]
    }
   ],
   "source": [
    "# visualize erased images\n",
    "import matplotlib.pyplot as plt\n",
    "plt.rcParams[\"figure.figsize\"] = (20,3)\n",
    "plottedimgs = [torch.movedim(combine_intact_erased_images[i], 0 ,-1) for i in range(10)]\n",
    "plot(plottedimgs, num_rows=1)\n",
    "plottedimgs = [torch.movedim(combine_intact_images[i], 0 ,-1) for i in range(10)]\n",
    "plot(plottedimgs, num_rows=1)\n",
    "print([l.argmax() for l in combine_labels_tensorized[:10]])"
   ]
  },
  {
   "cell_type": "code",
   "execution_count": 62,
   "metadata": {},
   "outputs": [
    {
     "name": "stdout",
     "output_type": "stream",
     "text": [
      "../data/MNIST_recon/train_recon_combine_x3_nblot1to3.pt saved to disk\n"
     ]
    }
   ],
   "source": [
    "# tensor save recon-half\n",
    "comment = '_nblot1to3'\n",
    "filename = os.path.join(path_save, f'{dataset_type}_recon_combine_x{increase_datasize_by}{comment}.pt')\n",
    "torch.save((combine_intact_erased_images, combine_intact_images, combine_labels_tensorized), filename)\n",
    "print(f'{filename} saved to disk')"
   ]
  }
 ],
 "metadata": {
  "colab": {
   "authorship_tag": "ABX9TyPeBIn3uPq/4TvJCOo9H7tY",
   "machine_shape": "hm",
   "name": "stimuli_util.ipynb",
   "provenance": []
  },
  "kernelspec": {
   "display_name": "pytorch",
   "language": "python",
   "name": "pytorch"
  },
  "language_info": {
   "codemirror_mode": {
    "name": "ipython",
    "version": 3
   },
   "file_extension": ".py",
   "mimetype": "text/x-python",
   "name": "python",
   "nbconvert_exporter": "python",
   "pygments_lexer": "ipython3",
   "version": "3.8.13"
  }
 },
 "nbformat": 4,
 "nbformat_minor": 4
}
