{
 "cells": [
  {
   "cell_type": "markdown",
   "metadata": {},
   "source": [
    "# Generating dataset \n"
   ]
  },
  {
   "cell_type": "code",
   "execution_count": 1,
   "metadata": {},
   "outputs": [],
   "source": [
    "%matplotlib inline \n",
    "import matplotlib.pyplot as plt\n",
    "\n",
    "import torch\n",
    "import torchvision.transforms as T\n",
    "from torchvision import datasets\n",
    "import copy\n",
    "import os\n",
    "from tqdm.notebook import tqdm\n",
    "import numpy as np \n",
    "np.set_printoptions(suppress=True)\n",
    "\n",
    "import random"
   ]
  },
  {
   "cell_type": "markdown",
   "metadata": {},
   "source": [
    "# Mnist with shape, global configuration perturbed\n",
    "- occlusion\n",
    "- top-flipped\n",
    "- scrambled\n",
    "\n",
    "References:\n",
    "- https://jov.arvojournals.org/article.aspx?articleid=2777402\n",
    "- https://jov.arvojournals.org/article.aspx?articleid=2777582"
   ]
  },
  {
   "cell_type": "code",
   "execution_count": 82,
   "metadata": {},
   "outputs": [
    {
     "name": "stdout",
     "output_type": "stream",
     "text": [
      "torch.Size([10000, 1, 28, 28])\n",
      "torch.Size([10000, 1, 28, 28])\n",
      "torch.Size([10000, 1, 28, 28])\n",
      "torch.Size([10000, 1, 28, 28])\n",
      "torch.Size([10000, 10])\n"
     ]
    }
   ],
   "source": [
    "def generate_partition(img):\n",
    "    h, w = 28, 28\n",
    "    n_split=2\n",
    "\n",
    "    try:\n",
    "        h%n_split==0 & w%n_split==0\n",
    "    except:\n",
    "        print(\"That's not an integer number.\")\n",
    "\n",
    "    # Define the window size\n",
    "    windowsize_r = int(h/n_split)\n",
    "    windowsize_c = int(w/n_split)\n",
    "\n",
    "\n",
    "    # Crop out the window and append to patches\n",
    "    patches = []\n",
    "    halves = []\n",
    "    for r in range(0, h - windowsize_r+1, windowsize_r):\n",
    "        half = img[r:r+windowsize_r,:]\n",
    "        halves.append(half)\n",
    "        for c in range(0, w - windowsize_c+1, windowsize_c):\n",
    "            window = img[r:r+windowsize_r,c:c+windowsize_c]\n",
    "            patches.append(window)\n",
    "\n",
    "\n",
    "    # get array and randomly switch positions        \n",
    "    patches_array = np.array(patches)\n",
    "    rand_idx = random.sample(range(0,n_split*n_split), n_split*n_split)\n",
    "    patches_random = patches_array[rand_idx]\n",
    "\n",
    "\n",
    "    # get top-flipped array\n",
    "    halves_array = np.array(halves)\n",
    "    halves_array[0] = np.fliplr(halves_array[0])\n",
    "    final_topflipped = np.vstack(halves_array)\n",
    "\n",
    "    # combine patch images to original shape + images with original order but one patch erased\n",
    "    occlusion_idx = random.sample(range(0,n_split*n_split), 1)[0]\n",
    "    final_occlusion =  np.zeros_like(img)\n",
    "    final_random = np.zeros_like(img)\n",
    "\n",
    "    index = 0\n",
    "    for r in range(0, w - windowsize_r+1, windowsize_r):\n",
    "        for c in range(0, h - windowsize_c+1, windowsize_c):\n",
    "            final_random[r:r+windowsize_r,c:c+windowsize_c] = patches_random[index]\n",
    "            if index == occlusion_idx:\n",
    "                final_occlusion[r:r+windowsize_r,c:c+windowsize_c] = np.zeros_like(patches_random[index])\n",
    "            else:\n",
    "                final_occlusion[r:r+windowsize_r,c:c+windowsize_c] = patches_array[index]\n",
    "            index += 1\n",
    "\n",
    "    #visualize\n",
    "#     fig = plt.figure(figsize=(15, 80))\n",
    "#     fig.add_subplot(1, 4, 1)      \n",
    "#     plt.imshow(img, cmap='gray')\n",
    "#     fig.add_subplot(1, 4, 2)      \n",
    "#     plt.imshow(final_occlusion, cmap='gray')\n",
    "#     fig.add_subplot(1, 4, 3)      \n",
    "#     plt.imshow(final_topflipped, cmap='gray')\n",
    "#     fig.add_subplot(1, 4, 4)      \n",
    "#     plt.imshow(final_random, cmap='gray')\n",
    "\n",
    "    return final_occlusion, final_topflipped, final_random\n",
    "\n",
    "def get_tensorized_dataset(im_set):\n",
    "    images = []\n",
    "    occlusions = []\n",
    "    topflipped=[]\n",
    "    randoms= []\n",
    "\n",
    "    labels = []\n",
    "    for img, label in im_set:\n",
    "        img = np.array(img)\n",
    "        occlusion, top, random = generate_partition(img)\n",
    "        images.append(img)\n",
    "        occlusions.append(occlusion)\n",
    "        topflipped.append(top)\n",
    "        randoms.append(random)\n",
    "        labels.append(label)\n",
    "        \n",
    "    # convert to tensor and one-hot vector\n",
    "    transform_tohot = T.Lambda(lambda y: torch.zeros(10, dtype=torch.float).scatter_(0, torch.tensor(y), value=1))\n",
    "    images_tensorized = torch.stack([T.ToTensor()(im) for im in images])\n",
    "    occlusions_tensorized = torch.stack([T.ToTensor()(im) for im in occlusions])\n",
    "    topflipped_tensorized = torch.stack([T.ToTensor()(im) for im in topflipped])\n",
    "    randoms_tensorized = torch.stack([T.ToTensor()(im) for im in randoms])\n",
    "    labels_tensorized = torch.stack([transform_tohot(label) for label in labels])\n",
    "    \n",
    "    return images_tensorized, occlusions_tensorized, topflipped_tensorized, randoms_tensorized, labels_tensorized\n",
    "\n",
    "def plot(imgs, num_rows = 1, with_orig=False, row_title=None, **imshow_kwargs):\n",
    "#     if not isinstance(imgs, list):\n",
    "#         raise ValueError('input images should be list form')\n",
    "\n",
    "    num_cols = int(len(imgs)/num_rows) + (len(imgs)%num_rows > 0)\n",
    "    fig, axs = plt.subplots(nrows=num_rows, ncols=num_cols, squeeze=False)\n",
    "#     import pdb; pdb.set_trace()\n",
    "    for row_idx in range(num_rows):\n",
    "        for col_idx, img in enumerate(imgs[row_idx*num_cols:(row_idx+1)*num_cols]):\n",
    "            ax = axs[row_idx, col_idx]\n",
    "            ax.imshow(np.asarray(img), cmap='gray', vmin=0, vmax=1,  **imshow_kwargs)\n",
    "            ax.set(xticklabels=[], yticklabels=[], xticks=[], yticks=[])\n",
    "\n",
    "#     if with_orig:\n",
    "#         axs[0, 0].set(title='Original image')\n",
    "#         axs[0, 0].title.set_size(8)\n",
    "    if row_title is not None:\n",
    "        for row_idx in range(num_rows):\n",
    "            axs[row_idx, 0].set(ylabel=row_title[row_idx])\n",
    "    plt.show()\n",
    "#     plt.tight_layout()\n",
    "\n",
    "# load original mnist\n",
    "path_save = '../data/MNIST_shape'\n",
    "dataset_type = 'test'\n",
    "\n",
    "\n",
    "if dataset_type == 'train':\n",
    "    im_set = datasets.MNIST('../data/',train=True, download=False)\n",
    "elif dataset_type == 'test':\n",
    "    im_set = datasets.MNIST('../data/',train=False, download=False)\n",
    "\n",
    "orig_images_tensorized, occlusion_images_tensorized, topflipped_images_tensorized, random_images_tensorized, orig_labels_tensorized = get_tensorized_dataset(im_set)\n",
    "print(orig_images_tensorized.size())\n",
    "print(occlusion_images_tensorized.size())\n",
    "print(topflipped_images_tensorized.size())\n",
    "print(random_images_tensorized.size())\n",
    "\n",
    "print(orig_labels_tensorized.size())"
   ]
  },
  {
   "cell_type": "code",
   "execution_count": 87,
   "metadata": {},
   "outputs": [
    {
     "data": {
      "image/png": "[encoded data removed]",
      "text/plain": [
       "<Figure size 1440x216 with 10 Axes>"
      ]
     },
     "metadata": {},
     "output_type": "display_data"
    },
    {
     "data": {
      "image/png": "[encoded data removed]",
      "text/plain": [
       "<Figure size 1440x216 with 10 Axes>"
      ]
     },
     "metadata": {},
     "output_type": "display_data"
    },
    {
     "data": {
      "image/png": "[encoded data removed]",
      "text/plain": [
       "<Figure size 1440x216 with 10 Axes>"
      ]
     },
     "metadata": {},
     "output_type": "display_data"
    },
    {
     "data": {
      "image/png": "[encoded data removed]",
      "text/plain": [
       "<Figure size 1440x216 with 10 Axes>"
      ]
     },
     "metadata": {},
     "output_type": "display_data"
    },
    {
     "name": "stdout",
     "output_type": "stream",
     "text": [
      "[tensor(3), tensor(6), tensor(1), tensor(1), tensor(1), tensor(3), tensor(9), tensor(5), tensor(2), tensor(9)]\n"
     ]
    }
   ],
   "source": [
    "# visualize erased images\n",
    "plt.rcParams[\"figure.figsize\"] = (20,3)\n",
    "i =20#152\n",
    "\n",
    "plottedimgs = [torch.movedim(orig_images_tensorized[i], 0 ,-1) for i in range(10*i,10*(i+1))]\n",
    "plot(plottedimgs, num_rows=1)\n",
    "plottedimgs = [torch.movedim(occlusion_images_tensorized[i], 0 ,-1) for i in range(10*i,10*(i+1))]\n",
    "plot(plottedimgs, num_rows=1)\n",
    "plottedimgs = [torch.movedim(topflipped_images_tensorized[i], 0 ,-1) for i in range(10*i,10*(i+1))]\n",
    "plot(plottedimgs, num_rows=1)\n",
    "plottedimgs = [torch.movedim(random_images_tensorized[i], 0 ,-1) for i in range(10*i,10*(i+1))]\n",
    "plot(plottedimgs, num_rows=1)\n",
    "\n",
    "print([l.argmax() for l in orig_labels_tensorized[10*i:10*(i+1)]])"
   ]
  },
  {
   "cell_type": "code",
   "execution_count": 88,
   "metadata": {},
   "outputs": [
    {
     "name": "stdout",
     "output_type": "stream",
     "text": [
      "../data/MNIST_shape/test_occlusion.pt saved to disk\n",
      "../data/MNIST_shape/test_flipped.pt saved to disk\n",
      "../data/MNIST_shape/test_random.pt saved to disk\n"
     ]
    }
   ],
   "source": [
    "# save tensors \n",
    "# save tensors \n",
    "filename = os.path.join(path_save, f'{dataset_type}_occlusion.pt')\n",
    "torch.save((occlusion_images_tensorized, orig_labels_tensorized), filename)\n",
    "print(f'{filename} saved to disk')\n",
    "\n",
    "# save tensors \n",
    "filename = os.path.join(path_save, f'{dataset_type}_flipped.pt')\n",
    "torch.save((topflipped_images_tensorized, orig_labels_tensorized), filename)\n",
    "print(f'{filename} saved to disk')\n",
    "\n",
    "filename = os.path.join(path_save, f'{dataset_type}_random.pt')\n",
    "torch.save((random_images_tensorized, orig_labels_tensorized), filename)\n",
    "print(f'{filename} saved to disk')\n"
   ]
  }
 ],
 "metadata": {
  "colab": {
   "authorship_tag": "ABX9TyPeBIn3uPq/4TvJCOo9H7tY",
   "machine_shape": "hm",
   "name": "stimuli_util.ipynb",
   "provenance": []
  },
  "kernelspec": {
   "display_name": "pytorch",
   "language": "python",
   "name": "pytorch"
  },
  "language_info": {
   "codemirror_mode": {
    "name": "ipython",
    "version": 3
   },
   "file_extension": ".py",
   "mimetype": "text/x-python",
   "name": "python",
   "nbconvert_exporter": "python",
   "pygments_lexer": "ipython3",
   "version": "3.8.13"
  }
 },
 "nbformat": 4,
 "nbformat_minor": 4
}
