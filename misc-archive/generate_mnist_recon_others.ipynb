{
 "cells": [
  {
   "cell_type": "markdown",
   "metadata": {},
   "source": [
    "# Generating dataset \n",
    "This notebook shows how to generate the train and test set for the multimnist and multimnist_cluttered tasks"
   ]
  },
  {
   "cell_type": "code",
   "execution_count": 1,
   "metadata": {},
   "outputs": [],
   "source": [
    "%matplotlib inline \n",
    "import matplotlib.pyplot as plt\n",
    "\n",
    "import torch\n",
    "import torchvision.transforms as T\n",
    "from torchvision import datasets\n",
    "import copy\n",
    "import os\n",
    "from tqdm.notebook import tqdm\n",
    "import numpy as np \n",
    "np.set_printoptions(suppress=True)\n",
    "\n",
    "import random"
   ]
  },
  {
   "cell_type": "markdown",
   "metadata": {},
   "source": [
    "# Mnist for reconstruction (BLUR)\n",
    "In this task, the model has to reconstruct blur version, given original clear mnist\n",
    "- original mnist training dataset: 60k, 10k for testing"
   ]
  },
  {
   "cell_type": "code",
   "execution_count": 2,
   "metadata": {},
   "outputs": [
    {
     "name": "stdout",
     "output_type": "stream",
     "text": [
      "torch.Size([10000, 1, 28, 28])\n",
      "torch.Size([10000, 10])\n"
     ]
    }
   ],
   "source": [
    "def get_tensorized_dataset(im_set):\n",
    "    images = []\n",
    "    labels = []\n",
    "    for img, label in im_set:\n",
    "        img = np.array(img)\n",
    "        images.append(img)    \n",
    "        labels.append(label)\n",
    "        \n",
    "    # convert to tensor and one-hot vector\n",
    "    transform_tohot = T.Lambda(lambda y: torch.zeros(10, dtype=torch.float).scatter_(0, torch.tensor(y), value=1))\n",
    "    images_tensorized = torch.stack([T.ToTensor()(im) for im in images])\n",
    "    labels_tensorized = torch.stack([transform_tohot(label) for label in labels])\n",
    "    \n",
    "    return images_tensorized, labels_tensorized\n",
    "\n",
    "def plot(imgs, num_rows = 1, with_orig=False, row_title=None, **imshow_kwargs):\n",
    "#     if not isinstance(imgs, list):\n",
    "#         raise ValueError('input images should be list form')\n",
    "\n",
    "    num_cols = int(len(imgs)/num_rows) + (len(imgs)%num_rows > 0)\n",
    "    fig, axs = plt.subplots(nrows=num_rows, ncols=num_cols, squeeze=False)\n",
    "#     import pdb; pdb.set_trace()\n",
    "    for row_idx in range(num_rows):\n",
    "        for col_idx, img in enumerate(imgs[row_idx*num_cols:(row_idx+1)*num_cols]):\n",
    "            ax = axs[row_idx, col_idx]\n",
    "            ax.imshow(np.asarray(img), cmap='gray_r', vmin=0, vmax=1,  **imshow_kwargs)\n",
    "            ax.set(xticklabels=[], yticklabels=[], xticks=[], yticks=[])\n",
    "\n",
    "#     if with_orig:\n",
    "#         axs[0, 0].set(title='Original image')\n",
    "#         axs[0, 0].title.set_size(8)\n",
    "    if row_title is not None:\n",
    "        for row_idx in range(num_rows):\n",
    "            axs[row_idx, 0].set(ylabel=row_title[row_idx])\n",
    "    plt.show()\n",
    "#     plt.tight_layout()\n",
    "\n",
    "# load original mnist\n",
    "path_save = '../data/MNIST_recon'\n",
    "dataset_type = 'test'\n",
    "\n",
    "\n",
    "if dataset_type == 'train':\n",
    "    im_set = datasets.MNIST('../data/',train=True, download=False)\n",
    "elif dataset_type == 'test':\n",
    "    im_set = datasets.MNIST('../data/',train=False, download=False)\n",
    "\n",
    "orig_images_tensorized, orig_labels_tensorized = get_tensorized_dataset(im_set)\n",
    "print(orig_images_tensorized.size())\n",
    "print(orig_labels_tensorized.size())"
   ]
  },
  {
   "cell_type": "code",
   "execution_count": 3,
   "metadata": {},
   "outputs": [
    {
     "name": "stdout",
     "output_type": "stream",
     "text": [
      "torch.Size([60000, 1, 28, 28])\n",
      "torch.Size([60000, 1, 28, 28])\n"
     ]
    }
   ],
   "source": [
    "# blurred version\n",
    "kernelsize = 5\n",
    "sigma =1.0\n",
    "transforms = T.Compose([ T.GaussianBlur(kernelsize, sigma=sigma), T.ToTensor()])\n",
    "\n",
    "if dataset_type == 'train':\n",
    "    im_set = datasets.MNIST('../data/',train=True, download=False, transform=transforms,\n",
    "                        target_transform=T.Lambda(lambda y: torch.zeros(10, dtype=torch.float).scatter_(0, torch.tensor(y), value=1)))\n",
    "elif dataset_type == 'test':\n",
    "    im_set = datasets.MNIST('../data/',train=False, download=False, transform=transforms,\n",
    "                        target_transform=T.Lambda(lambda y: torch.zeros(10, dtype=torch.float).scatter_(0, torch.tensor(y), value=1)))\n",
    "\n",
    "    \n",
    "images = []\n",
    "# labels = []\n",
    "for img, label in im_set:\n",
    "    images.append(img)    \n",
    "#     labels.append(label)\n",
    "        \n",
    "blur_images_tensorized = torch.stack([im for im in images])\n",
    "# blur_labels_tensorized = torch.stack([label for label in labels])\n",
    "print(blur_images_tensorized.size())\n",
    "\n",
    "bool_images_tensorized = (blur_images_tensorized >0.1).type(torch.float32)\n",
    "# blur_labels_tensorized = torch.stack([label for label in labels])\n",
    "print(bool_images_tensorized.size())"
   ]
  },
  {
   "cell_type": "code",
   "execution_count": 4,
   "metadata": {},
   "outputs": [
    {
     "data": {
      "image/png": "[encoded data removed]",
      "text/plain": [
       "<Figure size 1440x216 with 10 Axes>"
      ]
     },
     "metadata": {},
     "output_type": "display_data"
    },
    {
     "data": {
      "image/png": "[encoded data removed]",
      "text/plain": [
       "<Figure size 1440x216 with 10 Axes>"
      ]
     },
     "metadata": {},
     "output_type": "display_data"
    },
    {
     "data": {
      "image/png": "[encoded data removed]",
      "text/plain": [
       "<Figure size 1440x216 with 10 Axes>"
      ]
     },
     "metadata": {},
     "output_type": "display_data"
    },
    {
     "name": "stdout",
     "output_type": "stream",
     "text": [
      "[tensor(9), tensor(6), tensor(9), tensor(0), tensor(7), tensor(1), tensor(4), tensor(2), tensor(7), tensor(3)]\n"
     ]
    }
   ],
   "source": [
    "# visualize erased images\n",
    "plt.rcParams[\"figure.figsize\"] = (20,3)\n",
    "i =90#152\n",
    "plottedimgs = [torch.movedim(blur_images_tensorized[i], 0 ,-1) for i in range(10*i,10*(i+1))]\n",
    "plot(plottedimgs, num_rows=1)\n",
    "plottedimgs = [torch.movedim(bool_images_tensorized[i], 0 ,-1) for i in range(10*i,10*(i+1))]\n",
    "plot(plottedimgs, num_rows=1)\n",
    "plottedimgs = [torch.movedim(orig_images_tensorized[i], 0 ,-1) for i in range(10*i,10*(i+1))]\n",
    "plot(plottedimgs, num_rows=1)\n",
    "print([l.argmax() for l in orig_labels_tensorized[10*i:10*(i+1)]])"
   ]
  },
  {
   "cell_type": "code",
   "execution_count": 5,
   "metadata": {},
   "outputs": [
    {
     "name": "stdout",
     "output_type": "stream",
     "text": [
      "../data/MNIST_recon/train_blur_k5s5.pt saved to disk\n",
      "../data/MNIST_recon/train_blur_k5s5_bool.pt saved to disk\n"
     ]
    }
   ],
   "source": [
    "# save tensors \n",
    "filename = os.path.join(path_save, f'{dataset_type}_blur_k{kernelsize}s{int(sigma)}.pt')\n",
    "torch.save((orig_images_tensorized, blur_images_tensorized, orig_labels_tensorized), filename)\n",
    "print(f'{filename} saved to disk')\n",
    "\n",
    "filename = os.path.join(path_save, f'{dataset_type}_blur_k{kernelsize}s{int(sigma)}_bool.pt')\n",
    "torch.save((orig_images_tensorized, bool_images_tensorized, orig_labels_tensorized), filename)\n",
    "print(f'{filename} saved to disk')"
   ]
  },
  {
   "cell_type": "markdown",
   "metadata": {},
   "source": [
    "# Mnist for reconstruction (Canny edges)\n",
    "In this task, the model has to reconstruct contour version, given original clear mnist\n",
    "- original mnist training dataset: 60k, 10k for testing"
   ]
  },
  {
   "cell_type": "code",
   "execution_count": 38,
   "metadata": {},
   "outputs": [
    {
     "name": "stdout",
     "output_type": "stream",
     "text": [
      "torch.Size([60000, 1, 28, 28])\n",
      "torch.Size([60000, 1, 28, 28])\n",
      "torch.Size([60000, 10])\n"
     ]
    }
   ],
   "source": [
    "from skimage import transform, feature\n",
    "def canny_edges(x):\n",
    "    x = np.array(x) / 255.\n",
    "    x = feature.canny(x)\n",
    "    return (x * 255).astype(np.uint8)\n",
    "\n",
    "def get_tensorized_dataset(im_set):\n",
    "    images = []\n",
    "    edges=[]\n",
    "    labels = []\n",
    "    for img, label in im_set:\n",
    "#         import pdb; pdb.set_trace()\n",
    "        img = np.array(img)\n",
    "        images.append(img)    \n",
    "        e = canny_edges(img)\n",
    "        edges.append(e)\n",
    "        labels.append(label)\n",
    "        \n",
    "    # convert to tensor and one-hot vector\n",
    "    transform_tohot = T.Lambda(lambda y: torch.zeros(10, dtype=torch.float).scatter_(0, torch.tensor(y), value=1))\n",
    "    images_tensorized = torch.stack([T.ToTensor()(im) for im in images])\n",
    "    edges_tensorized = torch.stack([T.ToTensor()(im) for im in edges])\n",
    "    labels_tensorized = torch.stack([transform_tohot(label) for label in labels])\n",
    "    \n",
    "    return images_tensorized, edges_tensorized, labels_tensorized\n",
    "\n",
    "def plot(imgs, num_rows = 1, with_orig=False, row_title=None, **imshow_kwargs):\n",
    "#     if not isinstance(imgs, list):\n",
    "#         raise ValueError('input images should be list form')\n",
    "\n",
    "    num_cols = int(len(imgs)/num_rows) + (len(imgs)%num_rows > 0)\n",
    "    fig, axs = plt.subplots(nrows=num_rows, ncols=num_cols, squeeze=False)\n",
    "#     import pdb; pdb.set_trace()\n",
    "    for row_idx in range(num_rows):\n",
    "        for col_idx, img in enumerate(imgs[row_idx*num_cols:(row_idx+1)*num_cols]):\n",
    "            ax = axs[row_idx, col_idx]\n",
    "            ax.imshow(np.asarray(img), cmap='gray', vmin=0, vmax=1,  **imshow_kwargs)\n",
    "            ax.set(xticklabels=[], yticklabels=[], xticks=[], yticks=[])\n",
    "\n",
    "#     if with_orig:\n",
    "#         axs[0, 0].set(title='Original image')\n",
    "#         axs[0, 0].title.set_size(8)\n",
    "    if row_title is not None:\n",
    "        for row_idx in range(num_rows):\n",
    "            axs[row_idx, 0].set(ylabel=row_title[row_idx])\n",
    "    plt.show()\n",
    "#     plt.tight_layout()\n",
    "\n",
    "# load original mnist\n",
    "path_save = '../data/MNIST_recon'\n",
    "dataset_type = 'train'\n",
    "\n",
    "\n",
    "if dataset_type == 'train':\n",
    "    im_set = datasets.MNIST('../data/',train=True, download=False)\n",
    "elif dataset_type == 'test':\n",
    "    im_set = datasets.MNIST('../data/',train=False, download=False)\n",
    "\n",
    "orig_images_tensorized, edge_images_tensorized, orig_labels_tensorized = get_tensorized_dataset(im_set)\n",
    "print(orig_images_tensorized.size())\n",
    "print(edge_images_tensorized.size())\n",
    "print(orig_labels_tensorized.size())"
   ]
  },
  {
   "cell_type": "code",
   "execution_count": 20,
   "metadata": {},
   "outputs": [
    {
     "data": {
      "image/png": "[encoded data removed]",
      "text/plain": [
       "<Figure size 1440x216 with 10 Axes>"
      ]
     },
     "metadata": {},
     "output_type": "display_data"
    },
    {
     "data": {
      "image/png": "[encoded data removed]",
      "text/plain": [
       "<Figure size 1440x216 with 10 Axes>"
      ]
     },
     "metadata": {},
     "output_type": "display_data"
    },
    {
     "name": "stdout",
     "output_type": "stream",
     "text": [
      "[tensor(9), tensor(6), tensor(9), tensor(0), tensor(7), tensor(1), tensor(4), tensor(2), tensor(7), tensor(3)]\n"
     ]
    }
   ],
   "source": [
    "# visualize erased images\n",
    "plt.rcParams[\"figure.figsize\"] = (20,3)\n",
    "i =90#152\n",
    "plottedimgs = [torch.movedim(orig_images_tensorized[i], 0 ,-1) for i in range(10*i,10*(i+1))]\n",
    "plot(plottedimgs, num_rows=1)\n",
    "\n",
    "plottedimgs = [torch.movedim(edge_images_tensorized[i], 0 ,-1) for i in range(10*i,10*(i+1))]\n",
    "plot(plottedimgs, num_rows=1)\n",
    "\n",
    "print([l.argmax() for l in orig_labels_tensorized[10*i:10*(i+1)]])"
   ]
  },
  {
   "cell_type": "code",
   "execution_count": 21,
   "metadata": {},
   "outputs": [
    {
     "name": "stdout",
     "output_type": "stream",
     "text": [
      "../data/MNIST_recon/train_canny_edge.pt saved to disk\n"
     ]
    }
   ],
   "source": [
    "# save tensors \n",
    "filename = os.path.join(path_save, f'{dataset_type}_canny_edge.pt')\n",
    "torch.save((orig_images_tensorized, edge_images_tensorized, orig_labels_tensorized), filename)\n",
    "print(f'{filename} saved to disk')"
   ]
  },
  {
   "cell_type": "markdown",
   "metadata": {},
   "source": [
    "# Mnist for reconstruction (Erase)\n",
    "original mnist training dataset: 60k\n",
    "* recon-only (x*60k erased)\n",
    "* recon-balance (x*30k intact + x*30k erased)\n",
    "* recon-unbalanced (original 60k intact + x*60k erased)"
   ]
  },
  {
   "cell_type": "code",
   "execution_count": 7,
   "metadata": {},
   "outputs": [
    {
     "data": {
      "image/png": "[encoded data removed]",
      "text/plain": [
       "<Figure size 1080x5760 with 3 Axes>"
      ]
     },
     "metadata": {
      "needs_background": "light"
     },
     "output_type": "display_data"
    }
   ],
   "source": [
    "# partly erased stimuli demonstration\n",
    "from scipy import ndimage\n",
    "# np.random.seed(1)\n",
    "fig = plt.figure(figsize=(15, 80))\n",
    "\n",
    "im_set = datasets.MNIST('../data/',train=False, download=False)\n",
    "\n",
    "# image\n",
    "i = 88\n",
    "im = np.array(im_set[i][0])\n",
    "fig.add_subplot(1, 3, 1)\n",
    "plt.imshow(im, cmap='gray_r')\n",
    "\n",
    "## blots\n",
    "nblots = 3\n",
    "sigma = 3\n",
    "blots = np.zeros(im.shape)\n",
    "points = im.shape[0]*np.random.random((2, nblots))\n",
    "blots[(points[0]).astype(np.int), (points[1]).astype(np.int)] = 1\n",
    "blots = ndimage.gaussian_filter(blots, sigma=sigma)\n",
    "blotmask = (blots > blots.mean()).astype(np.int)\n",
    "fig.add_subplot(1, 3, 2)\n",
    "plt.imshow(blotmask, cmap='gray_r')\n",
    "\n",
    "# blotted\n",
    "# bim = im.copy()\n",
    "maskvalue = 0\n",
    "np.putmask(im, blotmask, maskvalue)\n",
    "fig.add_subplot(1, 3, 3)\n",
    "plt.imshow(im, cmap='gray_r')\n",
    "plt.show()"
   ]
  },
  {
   "cell_type": "code",
   "execution_count": 53,
   "metadata": {},
   "outputs": [],
   "source": [
    "def get_randomly_erased_dataset(im_set, nblots=3):\n",
    "    intact_images = []\n",
    "    erased_images = []\n",
    "    labels = []\n",
    "    for img, label in im_set:\n",
    "        img = np.array(img)\n",
    "        intact_images.append(img)    \n",
    "        erased = erase_image(img.copy(), nblots)\n",
    "        erased_images.append(erased)\n",
    "        labels.append(label)\n",
    "        \n",
    "    # convert to tensor and one-hot vector\n",
    "    transform_tohot = T.Lambda(lambda y: torch.zeros(10, dtype=torch.float).scatter_(0, torch.tensor(y), value=1))\n",
    "    intact_images_tensorized = torch.stack([T.ToTensor()(im) for im in intact_images])\n",
    "    erased_images_tensorized = torch.stack([T.ToTensor()(im) for im in erased_images])\n",
    "    labels_tensorized = torch.stack([transform_tohot(label) for label in labels])\n",
    "    \n",
    "    return intact_images_tensorized, erased_images_tensorized, labels_tensorized\n",
    "\n",
    "def get_tensorized_dataset(im_set):\n",
    "    images = []\n",
    "    labels = []\n",
    "    for img, label in im_set:\n",
    "        img = np.array(img)\n",
    "        images.append(img)    \n",
    "        labels.append(label)\n",
    "        \n",
    "    # convert to tensor and one-hot vector\n",
    "    transform_tohot = T.Lambda(lambda y: torch.zeros(10, dtype=torch.float).scatter_(0, torch.tensor(y), value=1))\n",
    "    images_tensorized = torch.stack([T.ToTensor()(im) for im in images])\n",
    "    labels_tensorized = torch.stack([transform_tohot(label) for label in labels])\n",
    "    \n",
    "    return images_tensorized, labels_tensorized\n",
    "\n",
    "def erase_image(img, nblots=3, sigma=3, maskvalue=0):\n",
    "    from scipy import ndimage\n",
    "    # create blots\n",
    "    blots = np.zeros(img.shape)\n",
    "    points = img.shape[0]*np.random.random((2, nblots))\n",
    "    blots[(points[0]).astype(np.int), (points[1]).astype(np.int)] = 1\n",
    "    blots = ndimage.gaussian_filter(blots, sigma=sigma)\n",
    "    blotmask = (blots > blots.mean()).astype(np.int)\n",
    "    \n",
    "    # put blotmask on original image \n",
    "    np.putmask(img, blotmask, maskvalue) # check how this works for 3D, RGB array\n",
    "    \n",
    "    return img\n",
    "\n",
    "def plot(imgs, num_rows = 1, with_orig=False, row_title=None, **imshow_kwargs):\n",
    "#     if not isinstance(imgs, list):\n",
    "#         raise ValueError('input images should be list form')\n",
    "\n",
    "    num_cols = int(len(imgs)/num_rows) + (len(imgs)%num_rows > 0)\n",
    "    fig, axs = plt.subplots(nrows=num_rows, ncols=num_cols, squeeze=False)\n",
    "#     import pdb; pdb.set_trace()\n",
    "    for row_idx in range(num_rows):\n",
    "        for col_idx, img in enumerate(imgs[row_idx*num_cols:(row_idx+1)*num_cols]):\n",
    "            ax = axs[row_idx, col_idx]\n",
    "            ax.imshow(np.asarray(img), cmap='gray_r', vmin=0, vmax=1,  **imshow_kwargs)\n",
    "            ax.set(xticklabels=[], yticklabels=[], xticks=[], yticks=[])\n",
    "\n",
    "#     if with_orig:\n",
    "#         axs[0, 0].set(title='Original image')\n",
    "#         axs[0, 0].title.set_size(8)\n",
    "    if row_title is not None:\n",
    "        for row_idx in range(num_rows):\n",
    "            axs[row_idx, 0].set(ylabel=row_title[row_idx])\n",
    "    plt.show()\n",
    "#     plt.tight_layout()"
   ]
  },
  {
   "cell_type": "code",
   "execution_count": 51,
   "metadata": {},
   "outputs": [
    {
     "name": "stdout",
     "output_type": "stream",
     "text": [
      "torch.Size([60000, 1, 28, 28])\n",
      "torch.Size([60000, 10])\n"
     ]
    }
   ],
   "source": [
    "# load original mnist\n",
    "path_save = '../data/MNIST_recon'\n",
    "dataset_type = 'train'\n",
    "if dataset_type == 'train':\n",
    "    im_set = datasets.MNIST('../data/',train=True, download=False)\n",
    "elif dataset_type == 'test':\n",
    "    im_set = datasets.MNIST('../data/',train=False, download=False)\n",
    "\n",
    "orig_images_tensorized, orig_labels_tensorized = get_tensorized_dataset(im_set)\n",
    "print(orig_images_tensorized.size())\n",
    "print(orig_labels_tensorized.size())"
   ]
  },
  {
   "cell_type": "markdown",
   "metadata": {},
   "source": [
    "# create erased mnist"
   ]
  },
  {
   "cell_type": "code",
   "execution_count": 54,
   "metadata": {},
   "outputs": [
    {
     "name": "stdout",
     "output_type": "stream",
     "text": [
      "torch.Size([180000, 1, 28, 28])\n",
      "torch.Size([180000, 1, 28, 28])\n",
      "torch.Size([180000, 10])\n"
     ]
    }
   ],
   "source": [
    "# convert original mnist to randomly erased mnist\n",
    "random.seed(10)\n",
    "increase_datasize_by=3\n",
    "\n",
    "intact_images, erased_images, labels = [], [], []\n",
    "for i in range(increase_datasize_by):\n",
    "    intact, erased, lab = get_randomly_erased_dataset(im_set, nblots=2*i+1)\n",
    "    intact_images.append(intact)\n",
    "    erased_images.append(erased)\n",
    "    labels.append(lab)\n",
    "    \n",
    "intact_images_tensorized = torch.cat(intact_images)\n",
    "erased_images_tensorized = torch.cat(erased_images)\n",
    "labels_tensorized = torch.cat(labels)\n",
    "\n",
    "print(intact_images_tensorized.size())\n",
    "print(erased_images_tensorized.size())\n",
    "print(labels_tensorized.size())"
   ]
  },
  {
   "cell_type": "code",
   "execution_count": 55,
   "metadata": {},
   "outputs": [
    {
     "data": {
      "image/png": "[encoded data removed]",
      "text/plain": [
       "<Figure size 1440x216 with 10 Axes>"
      ]
     },
     "metadata": {},
     "output_type": "display_data"
    },
    {
     "data": {
      "image/png": "[encoded data removed]",
      "text/plain": [
       "<Figure size 1440x216 with 10 Axes>"
      ]
     },
     "metadata": {},
     "output_type": "display_data"
    },
    {
     "name": "stdout",
     "output_type": "stream",
     "text": [
      "[tensor(5), tensor(0), tensor(4), tensor(1), tensor(9), tensor(2), tensor(1), tensor(3), tensor(1), tensor(4)]\n"
     ]
    }
   ],
   "source": [
    "# visualize erased images\n",
    "import matplotlib.pyplot as plt\n",
    "plt.rcParams[\"figure.figsize\"] = (20,3)\n",
    "plottedimgs = [torch.movedim(intact_images_tensorized[i], 0 ,-1) for i in range(10)]\n",
    "plot(plottedimgs, num_rows=1)\n",
    "plottedimgs = [torch.movedim(erased_images_tensorized[i], 0 ,-1) for i in range(10)]\n",
    "plot(plottedimgs, num_rows=1)\n",
    "print([l.argmax() for l in labels_tensorized[:10]])"
   ]
  },
  {
   "cell_type": "code",
   "execution_count": 56,
   "metadata": {},
   "outputs": [
    {
     "name": "stdout",
     "output_type": "stream",
     "text": [
      "../data/MNIST_recon/train_recon_only_x3_nblot1to3.pt saved to disk\n"
     ]
    }
   ],
   "source": [
    "# save tensors recon-all\n",
    "comment = '_nblot1to3'\n",
    "filename = os.path.join(path_save, f'{dataset_type}_recon_only_x{increase_datasize_by}{comment}.pt')\n",
    "torch.save((erased_images_tensorized, intact_images_tensorized, labels_tensorized), filename)\n",
    "print(f'{filename} saved to disk')"
   ]
  },
  {
   "cell_type": "markdown",
   "metadata": {},
   "source": [
    "## make the half & half dataset between intact and erased images"
   ]
  },
  {
   "cell_type": "code",
   "execution_count": 57,
   "metadata": {},
   "outputs": [
    {
     "name": "stdout",
     "output_type": "stream",
     "text": [
      "among 180000 intact images, 90000 were replaced with erased version\n",
      "torch.Size([180000, 1, 28, 28])\n",
      "torch.Size([180000, 1, 28, 28])\n",
      "torch.Size([180000, 10])\n"
     ]
    }
   ],
   "source": [
    "# get half indicies from each dataset\n",
    "random.seed(10)\n",
    "n_images = len(labels_tensorized)\n",
    "all_indices = list(range(0, n_images))\n",
    "erased_indices = random.sample(range(0, n_images), int(n_images/2))\n",
    "erased_indices.sort()\n",
    "intact_indices = list(set(all_indices)-set(erased_indices))\n",
    "print(f'among {n_images} intact images, {int(n_images/2)} were replaced with erased version')\n",
    "    \n",
    "half_intact_images = intact_images_tensorized[intact_indices]\n",
    "half_erased_images = erased_images_tensorized[erased_indices]\n",
    "half_intact_labels = labels_tensorized[intact_indices]\n",
    "half_erased_labels = labels_tensorized[erased_indices]\n",
    "intact_images_for_half_erased = intact_images_tensorized[erased_indices]\n",
    "half_intact_half_erased_images = torch.cat([half_intact_images, half_erased_images])\n",
    "all_intact_images = torch.cat([half_intact_images, intact_images_for_half_erased])\n",
    "half_intact_half_erased_labels  = torch.cat([half_intact_labels, half_erased_labels])\n",
    "\n",
    "# shuffle the order\n",
    "torch.manual_seed(10)\n",
    "shuffled_indices = torch.randperm(half_intact_half_erased_images.shape[0])\n",
    "half_intact_half_erased_images = half_intact_half_erased_images[shuffled_indices]\n",
    "all_intact_images = all_intact_images[shuffled_indices]\n",
    "half_intact_half_erased_labels = half_intact_half_erased_labels[shuffled_indices]\n",
    "\n",
    "print(half_intact_half_erased_images.size())\n",
    "print(all_intact_images.size())\n",
    "print(half_intact_half_erased_labels.size())"
   ]
  },
  {
   "cell_type": "code",
   "execution_count": 58,
   "metadata": {},
   "outputs": [
    {
     "data": {
      "image/png": "[encoded data removed]",
      "text/plain": [
       "<Figure size 1440x216 with 10 Axes>"
      ]
     },
     "metadata": {},
     "output_type": "display_data"
    },
    {
     "data": {
      "image/png": "[encoded data removed]",
      "text/plain": [
       "<Figure size 1440x216 with 10 Axes>"
      ]
     },
     "metadata": {},
     "output_type": "display_data"
    },
    {
     "name": "stdout",
     "output_type": "stream",
     "text": [
      "[tensor(8), tensor(7), tensor(5), tensor(7), tensor(7), tensor(1), tensor(6), tensor(6), tensor(7), tensor(9)]\n"
     ]
    }
   ],
   "source": [
    "# visualize erased images\n",
    "import matplotlib.pyplot as plt\n",
    "plt.rcParams[\"figure.figsize\"] = (20,3)\n",
    "plottedimgs = [torch.movedim(half_intact_half_erased_images[i], 0 ,-1) for i in range(10)]\n",
    "plot(plottedimgs, num_rows=1)\n",
    "plottedimgs = [torch.movedim(all_intact_images[i], 0 ,-1) for i in range(10)]\n",
    "plot(plottedimgs, num_rows=1)\n",
    "print([l.argmax() for l in half_intact_half_erased_labels[:10]])"
   ]
  },
  {
   "cell_type": "code",
   "execution_count": 59,
   "metadata": {},
   "outputs": [
    {
     "name": "stdout",
     "output_type": "stream",
     "text": [
      "../data/MNIST_recon/train_recon_half_x3_nblot1to3.pt saved to disk\n"
     ]
    }
   ],
   "source": [
    "# tensor save recon-half\n",
    "comment = '_nblot1to3'\n",
    "filename = os.path.join(path_save, f'{dataset_type}_recon_half_x{increase_datasize_by}{comment}.pt')\n",
    "torch.save((half_intact_half_erased_images, all_intact_images, half_intact_half_erased_labels), filename)\n",
    "print(f'{filename} saved to disk')"
   ]
  },
  {
   "cell_type": "markdown",
   "metadata": {},
   "source": [
    "# concat erased images to original mnist "
   ]
  },
  {
   "cell_type": "code",
   "execution_count": 60,
   "metadata": {},
   "outputs": [
    {
     "name": "stdout",
     "output_type": "stream",
     "text": [
      "torch.Size([240000, 1, 28, 28])\n",
      "torch.Size([240000, 1, 28, 28])\n",
      "torch.Size([240000, 10])\n"
     ]
    }
   ],
   "source": [
    "#concate intact + erased\n",
    "combine_intact_erased_images = torch.cat([orig_images_tensorized, erased_images_tensorized]) # torch.Size([120000, 28, 28])\n",
    "combine_intact_images = torch.cat([orig_images_tensorized, intact_images_tensorized])\n",
    "combine_labels_tensorized = torch.cat([orig_labels_tensorized, labels_tensorized]) #\n",
    "\n",
    "# shuffle the order\n",
    "torch.manual_seed(10)\n",
    "shuffled_indices = torch.randperm(combine_intact_erased_images.shape[0])\n",
    "combine_intact_erased_images = combine_intact_erased_images[shuffled_indices]\n",
    "combine_intact_images = combine_intact_images[shuffled_indices]\n",
    "combine_labels_tensorized = combine_labels_tensorized[shuffled_indices]\n",
    "\n",
    "print(combine_intact_erased_images .size())\n",
    "print(combine_intact_images.size())\n",
    "print(combine_labels_tensorized.size())"
   ]
  },
  {
   "cell_type": "code",
   "execution_count": 61,
   "metadata": {},
   "outputs": [
    {
     "data": {
      "image/png": "[encoded data removed]",
      "text/plain": [
       "<Figure size 1440x216 with 10 Axes>"
      ]
     },
     "metadata": {},
     "output_type": "display_data"
    },
    {
     "data": {
      "image/png": "[encoded data removed]",
      "text/plain": [
       "<Figure size 1440x216 with 10 Axes>"
      ]
     },
     "metadata": {},
     "output_type": "display_data"
    },
    {
     "name": "stdout",
     "output_type": "stream",
     "text": [
      "[tensor(8), tensor(0), tensor(0), tensor(9), tensor(8), tensor(2), tensor(7), tensor(5), tensor(4), tensor(1)]\n"
     ]
    }
   ],
   "source": [
    "# visualize erased images\n",
    "import matplotlib.pyplot as plt\n",
    "plt.rcParams[\"figure.figsize\"] = (20,3)\n",
    "plottedimgs = [torch.movedim(combine_intact_erased_images[i], 0 ,-1) for i in range(10)]\n",
    "plot(plottedimgs, num_rows=1)\n",
    "plottedimgs = [torch.movedim(combine_intact_images[i], 0 ,-1) for i in range(10)]\n",
    "plot(plottedimgs, num_rows=1)\n",
    "print([l.argmax() for l in combine_labels_tensorized[:10]])"
   ]
  },
  {
   "cell_type": "code",
   "execution_count": 62,
   "metadata": {},
   "outputs": [
    {
     "name": "stdout",
     "output_type": "stream",
     "text": [
      "../data/MNIST_recon/train_recon_combine_x3_nblot1to3.pt saved to disk\n"
     ]
    }
   ],
   "source": [
    "# tensor save recon-half\n",
    "comment = '_nblot1to3'\n",
    "filename = os.path.join(path_save, f'{dataset_type}_recon_combine_x{increase_datasize_by}{comment}.pt')\n",
    "torch.save((combine_intact_erased_images, combine_intact_images, combine_labels_tensorized), filename)\n",
    "print(f'{filename} saved to disk')"
   ]
  }
 ],
 "metadata": {
  "colab": {
   "authorship_tag": "ABX9TyPeBIn3uPq/4TvJCOo9H7tY",
   "machine_shape": "hm",
   "name": "stimuli_util.ipynb",
   "provenance": []
  },
  "kernelspec": {
   "display_name": "pytorch",
   "language": "python",
   "name": "pytorch"
  },
  "language_info": {
   "codemirror_mode": {
    "name": "ipython",
    "version": 3
   },
   "file_extension": ".py",
   "mimetype": "text/x-python",
   "name": "python",
   "nbconvert_exporter": "python",
   "pygments_lexer": "ipython3",
   "version": "3.8.13"
  }
 },
 "nbformat": 4,
 "nbformat_minor": 4
}
